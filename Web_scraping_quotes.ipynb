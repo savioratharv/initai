{
 "cells": [
  {
   "cell_type": "code",
   "execution_count": 3,
   "id": "7e2a3cc7-5816-4660-9d3c-c51c15691887",
   "metadata": {},
   "outputs": [
    {
     "ename": "AttributeError",
     "evalue": "'NoneType' object has no attribute 'text'",
     "output_type": "error",
     "traceback": [
      "\u001b[1;31m---------------------------------------------------------------------------\u001b[0m",
      "\u001b[1;31mAttributeError\u001b[0m                            Traceback (most recent call last)",
      "Input \u001b[1;32mIn [3]\u001b[0m, in \u001b[0;36m<cell line: 11>\u001b[1;34m()\u001b[0m\n\u001b[0;32m     10\u001b[0m quotes \u001b[38;5;241m=\u001b[39m []\n\u001b[0;32m     11\u001b[0m \u001b[38;5;28;01mfor\u001b[39;00m quote_div \u001b[38;5;129;01min\u001b[39;00m soup\u001b[38;5;241m.\u001b[39mfind_all(\u001b[38;5;124m\"\u001b[39m\u001b[38;5;124mp\u001b[39m\u001b[38;5;124m\"\u001b[39m):\n\u001b[1;32m---> 12\u001b[0m     quote \u001b[38;5;241m=\u001b[39m \u001b[43mquote_div\u001b[49m\u001b[38;5;241;43m.\u001b[39;49m\u001b[43mfind\u001b[49m\u001b[43m(\u001b[49m\u001b[38;5;124;43m\"\u001b[39;49m\u001b[38;5;124;43mp\u001b[39;49m\u001b[38;5;124;43m\"\u001b[39;49m\u001b[43m)\u001b[49m\u001b[38;5;241;43m.\u001b[39;49m\u001b[43mtext\u001b[49m\u001b[38;5;241m.\u001b[39mstrip()\n\u001b[0;32m     13\u001b[0m     author \u001b[38;5;241m=\u001b[39m quote_div\u001b[38;5;241m.\u001b[39mfind(\u001b[38;5;124m\"\u001b[39m\u001b[38;5;124mspan\u001b[39m\u001b[38;5;124m\"\u001b[39m)\u001b[38;5;241m.\u001b[39mtext\u001b[38;5;241m.\u001b[39mstrip()\n\u001b[0;32m     14\u001b[0m     quotes\u001b[38;5;241m.\u001b[39mappend({\u001b[38;5;124m\"\u001b[39m\u001b[38;5;124mquote\u001b[39m\u001b[38;5;124m\"\u001b[39m: quote, \u001b[38;5;124m\"\u001b[39m\u001b[38;5;124mauthor\u001b[39m\u001b[38;5;124m\"\u001b[39m: author})\n",
      "\u001b[1;31mAttributeError\u001b[0m: 'NoneType' object has no attribute 'text'"
     ]
    }
   ],
   "source": [
    "import requests\n",
    "from bs4 import BeautifulSoup\n",
    "\n",
    "url = \"https://datasemantics.co/36-inspirational-quotes-on-big-data-machine-learning-and-artificial-intelligence/\"\n",
    "response = requests.get(url)\n",
    "\n",
    "soup = BeautifulSoup(response.text, \"html.parser\")\n",
    "quotes_div = soup.find(\"div\", class_=\"et_pb_text_inner\")\n",
    "\n",
    "quotes = []\n",
    "for quote_div in soup.find_all(\"div\"):\n",
    "    quote = quote_div.find(\"p\").text.strip()\n",
    "    author = quote_div.find(\"span\").text.strip()\n",
    "    quotes.append({\"quote\": quote, \"author\": author})\n",
    "\n",
    "print(quotes)\n"
   ]
  },
  {
   "cell_type": "code",
   "execution_count": 9,
   "id": "c109951f-066e-406d-a314-ebb4eb1d6966",
   "metadata": {},
   "outputs": [
    {
     "name": "stdout",
     "output_type": "stream",
     "text": [
      "[]\n"
     ]
    }
   ],
   "source": [
    "import requests\n",
    "from bs4 import BeautifulSoup\n",
    "\n",
    "url = \"https://datasemantics.co/36-inspirational-quotes-on-big-data-machine-learning-and-artificial-intelligence/\"\n",
    "response = requests.get(url)\n",
    "\n",
    "soup = BeautifulSoup(response.content)\n",
    "quotes_div = soup.find(\"div\", class_=\"content-wrap col-sm-10 clearfix\")\n",
    "\n",
    "quotes = []\n",
    "for quote_div in soup.find_all(\"div\", recursive=False):\n",
    "    quote = quote_div.find(\"p\").text.strip()\n",
    "    print(quote)\n",
    "    author = quote_div.find(\"span\").text.strip().replace(\"—\", \"\").strip()\n",
    "    quotes.append({\"quote\": quote, \"author\": author})\n",
    "\n",
    "print(quotes)\n"
   ]
  },
  {
   "cell_type": "code",
   "execution_count": 16,
   "id": "1f6ca5dd-eccf-429e-882a-a926d768595f",
   "metadata": {},
   "outputs": [
    {
     "name": "stdout",
     "output_type": "stream",
     "text": [
      "[]\n"
     ]
    }
   ],
   "source": [
    "import requests\n",
    "from bs4 import BeautifulSoup\n",
    "\n",
    "url = \"https://datasemantics.co/36-inspirational-quotes-on-big-data-machine-learning-and-artificial-intelligence/\"\n",
    "response = requests.get(url)\n",
    "\n",
    "soup = BeautifulSoup(response.content)\n",
    "quotes_div = soup.find(\"div\", class_=\"content-wrap col-sm-10 clearfix\")\n",
    "\n",
    "quotes = []\n",
    "for quote_div in soup.find_all(\"p\", recursive=False, class_=False, id=False):\n",
    "    quote = quote_div.find(\"p\").text.strip()\n",
    "    print(quote)\n",
    "    author = quote_div.find(\"span\").text.strip().replace(\"—\", \"\").strip()\n",
    "    quotes.append({\"quote\": quote, \"author\": author})\n",
    "\n",
    "print(quotes)"
   ]
  },
  {
   "cell_type": "code",
   "execution_count": 14,
   "id": "aa1e3ca5-18ff-4a9a-9213-d690ead757d1",
   "metadata": {},
   "outputs": [
    {
     "name": "stdout",
     "output_type": "stream",
     "text": [
      "An appropriate representation of the requested resource could not be found on this server. This error was generated by Mod_Security.\n"
     ]
    }
   ],
   "source": [
    "import requests\n",
    "import pandas as pd\n",
    "from bs4 import BeautifulSoup\n",
    "  \n",
    "# link for extract html data\n",
    "def getdata(url):\n",
    "    r = requests.get(url)\n",
    "    return r.text\n",
    "  \n",
    "htmldata = getdata(\"https://datasemantics.co/36-inspirational-quotes-on-big-data-machine-learning-and-artificial-intelligence/\")\n",
    "soup = BeautifulSoup(htmldata, 'html.parser')\n",
    "data = ''\n",
    "for data in soup.find_all(\"p\"):\n",
    "    print(data.get_text())"
   ]
  },
  {
   "cell_type": "code",
   "execution_count": null,
   "id": "d761b7d7-3d9d-428f-b05a-b972da0f85e2",
   "metadata": {},
   "outputs": [],
   "source": [
    "headers = {\n",
    "    'User-Agent': 'Mozilla/5.0 (Windows NT 10.0; Win64; x64) AppleWebKit/537.36 (KHTML, like Gecko) Chrome/107.0.0.0 Safari/537.36'\n",
    "}\n",
    "\n",
    "page = requests.get('https://datasemantics.co/36-inspirational-quotes-on-big-data-machine-learning-and-artificial-intelligence/', headers=headers)\n",
    "\n"
   ]
  },
  {
   "cell_type": "code",
   "execution_count": 38,
   "id": "66221666-55ac-41b4-9eda-aa419b9c977b",
   "metadata": {},
   "outputs": [],
   "source": [
    "import requests\n",
    "from bs4 import BeautifulSoup\n",
    "\n",
    "url = \"https://www.analytixlabs.co.in/blog/40-best-artificial-intelligence-quotes/\"\n",
    "\n",
    "response = requests.get(url)\n",
    "soup = BeautifulSoup(response.text, \"html.parser\")\n",
    "\n",
    "quotes = soup.find_all(\"div\", class_=\"post-content description cf entry-content has-share-float content-spacious\")\n",
    "a=[]\n",
    "for quote in quotes:\n",
    "    p=quote.find_all('p')\n",
    "    for i in p:\n",
    "        a.append(i.text)"
   ]
  },
  {
   "cell_type": "code",
   "execution_count": 39,
   "id": "59689199-f713-4d19-ba7b-0dd910649af7",
   "metadata": {},
   "outputs": [
    {
     "data": {
      "text/plain": [
       "['Table of Contents',\n",
       " 'The applications of Artificial Intelligence are everywhere around us, in our homes, in our offices, and in our devices. In this article, we have curated a list of the best quotes from famous personalities about AI. Read on to check some of the best quotes on how essential AI is and also how dangerous it can be if left unchecked or unregulated.',\n",
       " 'AI is everywhere, it is also on our minds. Especially with many of us not knowing how far AI will evolve and when it will finally overtake us in terms of intelligence or resources. AI has a vast amount of control already and has started replacing humans in multiple spheres of life, however, it is also making jobs easier for us and is allowing us to spend more time doing what we love. Regardless of how beneficial advanced AI is, there is always the fear of AI going out of control or becoming too powerful for us to do anything about it. There might be a point in the future where we just have to watch AI take over with our hands tied behind our backs. But that is only one of the thousand possibilities among mostly positive probabilities. Let’s check some famous quotes about AI that speak of the probable negative impacts of AI and also how important AI is.',\n",
       " '',\n",
       " 'AI is absolutely necessary in order for us to advance further and also for curbing disease, famine, and many other major world problems. Here are some quotes that show how much we need AI.',\n",
       " '“The coming era of Artificial Intelligence will not be the era of war, but be the era of deep compassion, non-violence, and love.”',\n",
       " '– Amit Ray',\n",
       " '“Artificial intelligence would be the ultimate version of Google. The ultimate search engine that would understand everything on the web. It would understand exactly what you wanted, and it would give you the right thing. We’re nowhere near doing that now. However, we can get incrementally closer to that, and that is basically what we work on.”',\n",
       " '– Larry Page',\n",
       " '“Cyber hygiene, patching vulnerabilities, security by design, threat hunting, and machine learning-based artificial intelligence are mandatory prerequisites for cyber defense against the next generation threat landscape.”',\n",
       " '– James Scott',\n",
       " '“You have to talk about ‘The Terminator’ if you’re talking about artificial intelligence. I actually think that that’s way off. I don’t think that an artificially intelligent system that has superhuman intelligence will be violent. I do think that it will disrupt our culture.”',\n",
       " '– Gray Scott',\n",
       " '“I believe that at the end of the century the use of words and general educated opinion will have altered so much that one will be able to speak of machines thinking without expecting to be contradicted.”',\n",
       " '– Alan Turing',\n",
       " '“Robots are not going to replace humans, they are going to make their jobs much more humane. Difficult, demeaning, demanding, dangerous, dull – these are the jobs robots will be taking.',\n",
       " '– Sabine Hauert',\n",
       " '“The ultimate search engine would understand everything in the world. It would understand everything that you asked it and give you back the exact right thing instantly. You could ask ‘what should I ask Larry?’ and it would tell you.”\\xa0',\n",
       " '– Larry Page',\n",
       " '“The key to artificial intelligence has always been the representation.”',\n",
       " '– Jeff Hawkins',\n",
       " '“Some people call this artificial intelligence, but the reality is this technology will enhance us. So instead of artificial intelligence, I think we’ll augment our intelligence.”',\n",
       " '– Ginni Rometty',\n",
       " 'Here are some quotes that show how exponentially AI might grow and eventually become uncontrollable.\\xa0',\n",
       " '“Artificial intelligence will reach human levels by around 2029. Follow that out further to, say, 2045, and we will have multiplied the intelligence – the human biological machine intelligence of our civilization – a billion-fold.”',\n",
       " '– Ray Kurzweil',\n",
       " '“Machine intelligence is the last invention that humanity will ever need to make.”\\xa0',\n",
       " '– Nick Bostrom',\n",
       " '“Success in creating AI would be the biggest event in human history. Unfortunately, it might also be the last, unless we learn how to avoid the risks.”',\n",
       " '– Stephen Hawking',\n",
       " '“The pace of progress in artificial intelligence (I’m not referring to narrow AI) is incredibly fast. Unless you have direct exposure to groups like Deepmind, you have no idea how fast—it is growing at a pace close to exponential. The risk of something seriously dangerous happening is in the five-year time frame. 10 years at most.”',\n",
       " '– Elon Musk',\n",
       " '“It seems probable that once the machine thinking method had started, it would not take long to outstrip our feeble powers… They would be able to converse with each other to sharpen their wits. At some stage, therefore, we should have to expect the machines to take control.”',\n",
       " '– Alan Turing',\n",
       " '“If people trust artificial intelligence (AI) to drive a car, people will most likely trust AI to do your job.”\\xa0',\n",
       " '– Dave Waters',\n",
       " '“People worry that computers will get too smart and take over the world, but the real problem is that they’re too stupid and they’ve already taken over the world.”',\n",
       " '– Pedro Domingos',\n",
       " 'If you wish to contribute to AI, you can take up courses on AI from one of the most reputed learning platforms in India, AnalytixLabs. Analytixlabs is one of the leading learning providers of Data Science, Analytics, and AI. Here are some major quotes about the evolution of AI.',\n",
       " '“Anything that could give rise to smarter-than-human intelligence—in the form of Artificial Intelligence, brain-computer interfaces, or neuroscience-based human intelligence enhancement – wins hands down beyond contest as doing the most to change the world. Nothing else is even in the same league.”',\n",
       " '– Eliezer Yudkowsky',\n",
       " '“Some people worry that artificial intelligence will make us feel inferior, but then, anybody in his right mind should have an inferiority complex every time he looks at a flower.”',\n",
       " '– Alan Kay',\n",
       " '“Artificial intelligence will reach human levels by around 2029. Follow that out further to, say, 2045, we will have multiplied the intelligence, the human biological machine intelligence of our civilization a billion-fold.”',\n",
       " '– Ray Kurzweil',\n",
       " '“I visualise a time when we will be to robots what dogs are to humans, and I’m rooting for the machines.”',\n",
       " '– Claude Shannon',\n",
       " '“It’s going to be interesting to see how society deals with artificial intelligence, but it will definitely be cool.”',\n",
       " '– Colin Angle',\n",
       " '“Artificial intelligence is growing up fast, as are robots whose facial expressions can elicit empathy and make your mirror neurons quiver.”',\n",
       " '– Diane Ackerman',\n",
       " '“A computer would deserve to be called intelligent if it could deceive a human into believing that it was human.”',\n",
       " '– Alan Turing',\n",
       " 'Here are some quotes that imply how AI lacks emotions and can never truly understand the value of human beings.',\n",
       " '“I’m more frightened than interested by artificial intelligence – in fact, perhaps fright and interest are not far away from one another. Things can become real in your mind, you can be tricked, and you believe things you wouldn’t ordinarily. A world run by automatons doesn’t seem completely unrealistic anymore. It’s a bit chilling.”',\n",
       " '– Gemma Whelan',\n",
       " '“Why give a robot an order to obey orders—why aren’t the original orders enough? Why command a robot not to do harm—wouldn’t it be easier never to command it to do harm in the first place?”',\n",
       " '– Steven Pinker',\n",
       " '“AI doesn’t have to be evil to destroy humanity – if AI has a goal and humanity just happens to come in the way, it will destroy humanity as a matter of course without even thinking about it, no hard feelings.”',\n",
       " '– Elon Musk',\n",
       " '“As more and more artificial intelligence is entering into the world, more and more emotional intelligence must enter into leadership.”',\n",
       " '– Amit Ray',\n",
       " '“I’m increasingly inclined to think that there should be some regulatory oversight, maybe at the national and international level, just to make sure that we don’t do something very foolish. I mean with artificial intelligence we’re summoning the demon.”\\xa0',\n",
       " '– Elon Musk',\n",
       " '“As more and more artificial intelligence is entering into the world, more and more emotional intelligence must enter into leadership.”',\n",
       " '– Amit Ray',\n",
       " '“I’m more frightened than interested by artificial intelligence – in fact, perhaps fright and interest are not far away from one another. Things can become real in your mind, you can be tricked, and you believe things you wouldn’t ordinarily. A world run by automatons doesn’t seem completely unrealistic anymore. It’s a bit chilling.”\\xa0',\n",
       " '– Gemma Whelan',\n",
       " '“The upheavals [of artificial intelligence] can escalate quickly and become scarier and even cataclysmic. Imagine how a medical robot, originally programmed to rid cancer, could conclude that the best way to obliterate cancer is to exterminate humans who are genetically prone to the disease.”',\n",
       " '– Nick Bilton',\n",
       " '“The development of full artificial intelligence could spell the end of the human race….It would take off on its own, and re-design itself at an ever-increasing rate. Humans, who are limited by slow biological evolution, couldn’t compete, and would be superseded.”',\n",
       " '– Stephen Hawking',\n",
       " 'Here are some popular quotes that speak about regulating AI in order to avoid the drastic effects we will experience if we leave AI unchecked.',\n",
       " '“We must address, individually and collectively, moral and ethical issues raised by cutting-edge research in artificial intelligence and biotechnology, which will enable significant life extension, designer babies, and memory extraction.”',\n",
       " '– Klaus Schwab',\n",
       " '“If the government regulates against the use of drones or stem cells or artificial intelligence, all that means is that the work and the research leave the borders of that country and go someplace else.”',\n",
       " '– Peter Diamandis',\n",
       " '“The real question is, when will we draft an artificial intelligence bill of rights? What will that consist of? And who will get to decide that?”',\n",
       " '– Gray Scott',\n",
       " '“By far, the greatest danger of Artificial Intelligence is that people conclude too early that they understand it.”',\n",
       " '– Eliezer Yudkowsky',\n",
       " '“If we do it right, we might be able to evolve a form of work that taps into our uniquely human capabilities and restores our humanity. The ultimate paradox is that this technology may become a powerful catalyst that we need to reclaim our humanity.”',\n",
       " '– John Hagel',\n",
       " '“I’m increasingly inclined to think that there should be some regulatory oversight, maybe at the national and international level, just to make sure that we don’t do something very foolish. I mean with artificial intelligence we’re summoning the demon.”',\n",
       " '– Elon Musk',\n",
       " '“I don’t want to really scare you, but it was alarming how many people I talked to who are highly placed people in AI who have retreats that are sort of ‘bug out’ houses, to which they could flee if it all hits the fan.”',\n",
       " '– James Barrat',\n",
       " '“We have seen AI providing conversation and comfort to the lonely; we have also seen AI engaging in racial discrimination. Yet the biggest harm that AI is likely to do to individuals in the short term is job displacement, as the amount of work we can automate with AI is vastly larger than before. As leaders, it is incumbent on all of us to make sure we are building a world in which every individual has an opportunity to thrive.”',\n",
       " '– Andrew Ng',\n",
       " 'We will only find out the true extent of AI’s capabilities in time. Even then, we might never truly be able to understand how powerful AI is. Honestly speaking, AI is limitless and can do anything, eventually. Thus, we must take care to not let AI get out of hand or not hand over resources to AI that it can use against us. However, we must also not let our fears get the better of us and allow AI to offer us the benefits that it can deliver in the fields of medicine, healthcare, biotechnology and so many other industries that allow us to sustain ourselves.']"
      ]
     },
     "execution_count": 39,
     "metadata": {},
     "output_type": "execute_result"
    }
   ],
   "source": [
    "a"
   ]
  },
  {
   "cell_type": "code",
   "execution_count": 44,
   "id": "f37c9121-2e38-482a-b87b-36ba38b59f0c",
   "metadata": {},
   "outputs": [],
   "source": [
    "new=a[5:-1]"
   ]
  },
  {
   "cell_type": "code",
   "execution_count": 45,
   "id": "646f2ca2-76a3-4b38-b565-23a835e5812f",
   "metadata": {},
   "outputs": [
    {
     "data": {
      "text/plain": [
       "['“The coming era of Artificial Intelligence will not be the era of war, but be the era of deep compassion, non-violence, and love.”',\n",
       " '– Amit Ray',\n",
       " '“Artificial intelligence would be the ultimate version of Google. The ultimate search engine that would understand everything on the web. It would understand exactly what you wanted, and it would give you the right thing. We’re nowhere near doing that now. However, we can get incrementally closer to that, and that is basically what we work on.”',\n",
       " '– Larry Page',\n",
       " '“Cyber hygiene, patching vulnerabilities, security by design, threat hunting, and machine learning-based artificial intelligence are mandatory prerequisites for cyber defense against the next generation threat landscape.”',\n",
       " '– James Scott',\n",
       " '“You have to talk about ‘The Terminator’ if you’re talking about artificial intelligence. I actually think that that’s way off. I don’t think that an artificially intelligent system that has superhuman intelligence will be violent. I do think that it will disrupt our culture.”',\n",
       " '– Gray Scott',\n",
       " '“I believe that at the end of the century the use of words and general educated opinion will have altered so much that one will be able to speak of machines thinking without expecting to be contradicted.”',\n",
       " '– Alan Turing',\n",
       " '“Robots are not going to replace humans, they are going to make their jobs much more humane. Difficult, demeaning, demanding, dangerous, dull – these are the jobs robots will be taking.',\n",
       " '– Sabine Hauert',\n",
       " '“The ultimate search engine would understand everything in the world. It would understand everything that you asked it and give you back the exact right thing instantly. You could ask ‘what should I ask Larry?’ and it would tell you.”\\xa0',\n",
       " '– Larry Page',\n",
       " '“The key to artificial intelligence has always been the representation.”',\n",
       " '– Jeff Hawkins',\n",
       " '“Some people call this artificial intelligence, but the reality is this technology will enhance us. So instead of artificial intelligence, I think we’ll augment our intelligence.”',\n",
       " '– Ginni Rometty',\n",
       " 'Here are some quotes that show how exponentially AI might grow and eventually become uncontrollable.\\xa0',\n",
       " '“Artificial intelligence will reach human levels by around 2029. Follow that out further to, say, 2045, and we will have multiplied the intelligence – the human biological machine intelligence of our civilization – a billion-fold.”',\n",
       " '– Ray Kurzweil',\n",
       " '“Machine intelligence is the last invention that humanity will ever need to make.”\\xa0',\n",
       " '– Nick Bostrom',\n",
       " '“Success in creating AI would be the biggest event in human history. Unfortunately, it might also be the last, unless we learn how to avoid the risks.”',\n",
       " '– Stephen Hawking',\n",
       " '“The pace of progress in artificial intelligence (I’m not referring to narrow AI) is incredibly fast. Unless you have direct exposure to groups like Deepmind, you have no idea how fast—it is growing at a pace close to exponential. The risk of something seriously dangerous happening is in the five-year time frame. 10 years at most.”',\n",
       " '– Elon Musk',\n",
       " '“It seems probable that once the machine thinking method had started, it would not take long to outstrip our feeble powers… They would be able to converse with each other to sharpen their wits. At some stage, therefore, we should have to expect the machines to take control.”',\n",
       " '– Alan Turing',\n",
       " '“If people trust artificial intelligence (AI) to drive a car, people will most likely trust AI to do your job.”\\xa0',\n",
       " '– Dave Waters',\n",
       " '“People worry that computers will get too smart and take over the world, but the real problem is that they’re too stupid and they’ve already taken over the world.”',\n",
       " '– Pedro Domingos',\n",
       " 'If you wish to contribute to AI, you can take up courses on AI from one of the most reputed learning platforms in India, AnalytixLabs. Analytixlabs is one of the leading learning providers of Data Science, Analytics, and AI. Here are some major quotes about the evolution of AI.',\n",
       " '“Anything that could give rise to smarter-than-human intelligence—in the form of Artificial Intelligence, brain-computer interfaces, or neuroscience-based human intelligence enhancement – wins hands down beyond contest as doing the most to change the world. Nothing else is even in the same league.”',\n",
       " '– Eliezer Yudkowsky',\n",
       " '“Some people worry that artificial intelligence will make us feel inferior, but then, anybody in his right mind should have an inferiority complex every time he looks at a flower.”',\n",
       " '– Alan Kay',\n",
       " '“Artificial intelligence will reach human levels by around 2029. Follow that out further to, say, 2045, we will have multiplied the intelligence, the human biological machine intelligence of our civilization a billion-fold.”',\n",
       " '– Ray Kurzweil',\n",
       " '“I visualise a time when we will be to robots what dogs are to humans, and I’m rooting for the machines.”',\n",
       " '– Claude Shannon',\n",
       " '“It’s going to be interesting to see how society deals with artificial intelligence, but it will definitely be cool.”',\n",
       " '– Colin Angle',\n",
       " '“Artificial intelligence is growing up fast, as are robots whose facial expressions can elicit empathy and make your mirror neurons quiver.”',\n",
       " '– Diane Ackerman',\n",
       " '“A computer would deserve to be called intelligent if it could deceive a human into believing that it was human.”',\n",
       " '– Alan Turing',\n",
       " 'Here are some quotes that imply how AI lacks emotions and can never truly understand the value of human beings.',\n",
       " '“I’m more frightened than interested by artificial intelligence – in fact, perhaps fright and interest are not far away from one another. Things can become real in your mind, you can be tricked, and you believe things you wouldn’t ordinarily. A world run by automatons doesn’t seem completely unrealistic anymore. It’s a bit chilling.”',\n",
       " '– Gemma Whelan',\n",
       " '“Why give a robot an order to obey orders—why aren’t the original orders enough? Why command a robot not to do harm—wouldn’t it be easier never to command it to do harm in the first place?”',\n",
       " '– Steven Pinker',\n",
       " '“AI doesn’t have to be evil to destroy humanity – if AI has a goal and humanity just happens to come in the way, it will destroy humanity as a matter of course without even thinking about it, no hard feelings.”',\n",
       " '– Elon Musk',\n",
       " '“As more and more artificial intelligence is entering into the world, more and more emotional intelligence must enter into leadership.”',\n",
       " '– Amit Ray',\n",
       " '“I’m increasingly inclined to think that there should be some regulatory oversight, maybe at the national and international level, just to make sure that we don’t do something very foolish. I mean with artificial intelligence we’re summoning the demon.”\\xa0',\n",
       " '– Elon Musk',\n",
       " '“As more and more artificial intelligence is entering into the world, more and more emotional intelligence must enter into leadership.”',\n",
       " '– Amit Ray',\n",
       " '“I’m more frightened than interested by artificial intelligence – in fact, perhaps fright and interest are not far away from one another. Things can become real in your mind, you can be tricked, and you believe things you wouldn’t ordinarily. A world run by automatons doesn’t seem completely unrealistic anymore. It’s a bit chilling.”\\xa0',\n",
       " '– Gemma Whelan',\n",
       " '“The upheavals [of artificial intelligence] can escalate quickly and become scarier and even cataclysmic. Imagine how a medical robot, originally programmed to rid cancer, could conclude that the best way to obliterate cancer is to exterminate humans who are genetically prone to the disease.”',\n",
       " '– Nick Bilton',\n",
       " '“The development of full artificial intelligence could spell the end of the human race….It would take off on its own, and re-design itself at an ever-increasing rate. Humans, who are limited by slow biological evolution, couldn’t compete, and would be superseded.”',\n",
       " '– Stephen Hawking',\n",
       " 'Here are some popular quotes that speak about regulating AI in order to avoid the drastic effects we will experience if we leave AI unchecked.',\n",
       " '“We must address, individually and collectively, moral and ethical issues raised by cutting-edge research in artificial intelligence and biotechnology, which will enable significant life extension, designer babies, and memory extraction.”',\n",
       " '– Klaus Schwab',\n",
       " '“If the government regulates against the use of drones or stem cells or artificial intelligence, all that means is that the work and the research leave the borders of that country and go someplace else.”',\n",
       " '– Peter Diamandis',\n",
       " '“The real question is, when will we draft an artificial intelligence bill of rights? What will that consist of? And who will get to decide that?”',\n",
       " '– Gray Scott',\n",
       " '“By far, the greatest danger of Artificial Intelligence is that people conclude too early that they understand it.”',\n",
       " '– Eliezer Yudkowsky',\n",
       " '“If we do it right, we might be able to evolve a form of work that taps into our uniquely human capabilities and restores our humanity. The ultimate paradox is that this technology may become a powerful catalyst that we need to reclaim our humanity.”',\n",
       " '– John Hagel',\n",
       " '“I’m increasingly inclined to think that there should be some regulatory oversight, maybe at the national and international level, just to make sure that we don’t do something very foolish. I mean with artificial intelligence we’re summoning the demon.”',\n",
       " '– Elon Musk',\n",
       " '“I don’t want to really scare you, but it was alarming how many people I talked to who are highly placed people in AI who have retreats that are sort of ‘bug out’ houses, to which they could flee if it all hits the fan.”',\n",
       " '– James Barrat',\n",
       " '“We have seen AI providing conversation and comfort to the lonely; we have also seen AI engaging in racial discrimination. Yet the biggest harm that AI is likely to do to individuals in the short term is job displacement, as the amount of work we can automate with AI is vastly larger than before. As leaders, it is incumbent on all of us to make sure we are building a world in which every individual has an opportunity to thrive.”',\n",
       " '– Andrew Ng']"
      ]
     },
     "execution_count": 45,
     "metadata": {},
     "output_type": "execute_result"
    }
   ],
   "source": [
    "new"
   ]
  },
  {
   "cell_type": "code",
   "execution_count": 67,
   "id": "1144b433-a8da-46dd-ad16-6a821a5f072a",
   "metadata": {},
   "outputs": [],
   "source": [
    "ai_quotes=new[0:18]"
   ]
  },
  {
   "cell_type": "code",
   "execution_count": 68,
   "id": "ff8e9101-89b9-4ae0-a60b-4e431fc0f782",
   "metadata": {},
   "outputs": [
    {
     "data": {
      "text/plain": [
       "['“The coming era of Artificial Intelligence will not be the era of war, but be the era of deep compassion, non-violence, and love.”',\n",
       " '– Amit Ray',\n",
       " '“Artificial intelligence would be the ultimate version of Google. The ultimate search engine that would understand everything on the web. It would understand exactly what you wanted, and it would give you the right thing. We’re nowhere near doing that now. However, we can get incrementally closer to that, and that is basically what we work on.”',\n",
       " '– Larry Page',\n",
       " '“Cyber hygiene, patching vulnerabilities, security by design, threat hunting, and machine learning-based artificial intelligence are mandatory prerequisites for cyber defense against the next generation threat landscape.”',\n",
       " '– James Scott',\n",
       " '“You have to talk about ‘The Terminator’ if you’re talking about artificial intelligence. I actually think that that’s way off. I don’t think that an artificially intelligent system that has superhuman intelligence will be violent. I do think that it will disrupt our culture.”',\n",
       " '– Gray Scott',\n",
       " '“I believe that at the end of the century the use of words and general educated opinion will have altered so much that one will be able to speak of machines thinking without expecting to be contradicted.”',\n",
       " '– Alan Turing',\n",
       " '“Robots are not going to replace humans, they are going to make their jobs much more humane. Difficult, demeaning, demanding, dangerous, dull – these are the jobs robots will be taking.',\n",
       " '– Sabine Hauert',\n",
       " '“The ultimate search engine would understand everything in the world. It would understand everything that you asked it and give you back the exact right thing instantly. You could ask ‘what should I ask Larry?’ and it would tell you.”\\xa0',\n",
       " '– Larry Page',\n",
       " '“The key to artificial intelligence has always been the representation.”',\n",
       " '– Jeff Hawkins',\n",
       " '“Some people call this artificial intelligence, but the reality is this technology will enhance us. So instead of artificial intelligence, I think we’ll augment our intelligence.”',\n",
       " '– Ginni Rometty']"
      ]
     },
     "execution_count": 68,
     "metadata": {},
     "output_type": "execute_result"
    }
   ],
   "source": [
    "ai_quotes"
   ]
  },
  {
   "cell_type": "code",
   "execution_count": 87,
   "id": "d8104301-642e-4f2a-bb32-438bb3cf5ca1",
   "metadata": {},
   "outputs": [],
   "source": [
    "ai_quote=[]\n",
    "ai_author=[]\n",
    "for i in range(0,len(ai_quotes)-1,2):\n",
    "    ai_quote.append(ai_quotes[i])\n",
    "for j in range(1,len(ai_quotes),2):\n",
    "    ai_author.append(ai_quotes[j])\n",
    "    j=j+1"
   ]
  },
  {
   "cell_type": "code",
   "execution_count": 88,
   "id": "76c09524-10ed-40e5-bd75-65543c9ccb9f",
   "metadata": {},
   "outputs": [
    {
     "data": {
      "text/plain": [
       "['“The coming era of Artificial Intelligence will not be the era of war, but be the era of deep compassion, non-violence, and love.”',\n",
       " '“Artificial intelligence would be the ultimate version of Google. The ultimate search engine that would understand everything on the web. It would understand exactly what you wanted, and it would give you the right thing. We’re nowhere near doing that now. However, we can get incrementally closer to that, and that is basically what we work on.”',\n",
       " '“Cyber hygiene, patching vulnerabilities, security by design, threat hunting, and machine learning-based artificial intelligence are mandatory prerequisites for cyber defense against the next generation threat landscape.”',\n",
       " '“You have to talk about ‘The Terminator’ if you’re talking about artificial intelligence. I actually think that that’s way off. I don’t think that an artificially intelligent system that has superhuman intelligence will be violent. I do think that it will disrupt our culture.”',\n",
       " '“I believe that at the end of the century the use of words and general educated opinion will have altered so much that one will be able to speak of machines thinking without expecting to be contradicted.”',\n",
       " '“Robots are not going to replace humans, they are going to make their jobs much more humane. Difficult, demeaning, demanding, dangerous, dull – these are the jobs robots will be taking.',\n",
       " '“The ultimate search engine would understand everything in the world. It would understand everything that you asked it and give you back the exact right thing instantly. You could ask ‘what should I ask Larry?’ and it would tell you.”\\xa0',\n",
       " '“The key to artificial intelligence has always been the representation.”',\n",
       " '“Some people call this artificial intelligence, but the reality is this technology will enhance us. So instead of artificial intelligence, I think we’ll augment our intelligence.”']"
      ]
     },
     "execution_count": 88,
     "metadata": {},
     "output_type": "execute_result"
    }
   ],
   "source": [
    "ai_quote"
   ]
  },
  {
   "cell_type": "code",
   "execution_count": 89,
   "id": "70597d6f-6414-4749-953c-95c958d17f9f",
   "metadata": {},
   "outputs": [
    {
     "data": {
      "text/plain": [
       "['– Amit Ray',\n",
       " '– Larry Page',\n",
       " '– James Scott',\n",
       " '– Gray Scott',\n",
       " '– Alan Turing',\n",
       " '– Sabine Hauert',\n",
       " '– Larry Page',\n",
       " '– Jeff Hawkins',\n",
       " '– Ginni Rometty']"
      ]
     },
     "execution_count": 89,
     "metadata": {},
     "output_type": "execute_result"
    }
   ],
   "source": [
    "ai_author"
   ]
  },
  {
   "cell_type": "code",
   "execution_count": 85,
   "id": "1cbb3c8c-3ea9-4023-b6a8-e22797eda35e",
   "metadata": {},
   "outputs": [],
   "source": [
    "humanity=new[19:33]"
   ]
  },
  {
   "cell_type": "code",
   "execution_count": 86,
   "id": "20cef524-353a-41bc-af88-616670d41391",
   "metadata": {},
   "outputs": [
    {
     "data": {
      "text/plain": [
       "['“Artificial intelligence will reach human levels by around 2029. Follow that out further to, say, 2045, and we will have multiplied the intelligence – the human biological machine intelligence of our civilization – a billion-fold.”',\n",
       " '– Ray Kurzweil',\n",
       " '“Machine intelligence is the last invention that humanity will ever need to make.”\\xa0',\n",
       " '– Nick Bostrom',\n",
       " '“Success in creating AI would be the biggest event in human history. Unfortunately, it might also be the last, unless we learn how to avoid the risks.”',\n",
       " '– Stephen Hawking',\n",
       " '“The pace of progress in artificial intelligence (I’m not referring to narrow AI) is incredibly fast. Unless you have direct exposure to groups like Deepmind, you have no idea how fast—it is growing at a pace close to exponential. The risk of something seriously dangerous happening is in the five-year time frame. 10 years at most.”',\n",
       " '– Elon Musk',\n",
       " '“It seems probable that once the machine thinking method had started, it would not take long to outstrip our feeble powers… They would be able to converse with each other to sharpen their wits. At some stage, therefore, we should have to expect the machines to take control.”',\n",
       " '– Alan Turing',\n",
       " '“If people trust artificial intelligence (AI) to drive a car, people will most likely trust AI to do your job.”\\xa0',\n",
       " '– Dave Waters',\n",
       " '“People worry that computers will get too smart and take over the world, but the real problem is that they’re too stupid and they’ve already taken over the world.”',\n",
       " '– Pedro Domingos']"
      ]
     },
     "execution_count": 86,
     "metadata": {},
     "output_type": "execute_result"
    }
   ],
   "source": [
    "humanity"
   ]
  },
  {
   "cell_type": "code",
   "execution_count": 95,
   "id": "e3639f72-2fb1-4987-bfbc-9b2bd7cc349d",
   "metadata": {},
   "outputs": [],
   "source": [
    "humanity_quote=[]\n",
    "humanity_author=[]\n",
    "for i in range(0,len(humanity)-1,2):\n",
    "    humanity_quote.append(humanity[i])\n",
    "for j in range(1,len(humanity),2):\n",
    "    humanity_author.append(humanity[j])\n",
    "    j=j+1"
   ]
  },
  {
   "cell_type": "code",
   "execution_count": 96,
   "id": "5ab1af63-9934-4923-8620-2814b826434a",
   "metadata": {},
   "outputs": [
    {
     "data": {
      "text/plain": [
       "['“Artificial intelligence will reach human levels by around 2029. Follow that out further to, say, 2045, and we will have multiplied the intelligence – the human biological machine intelligence of our civilization – a billion-fold.”',\n",
       " '“Machine intelligence is the last invention that humanity will ever need to make.”\\xa0',\n",
       " '“Success in creating AI would be the biggest event in human history. Unfortunately, it might also be the last, unless we learn how to avoid the risks.”',\n",
       " '“The pace of progress in artificial intelligence (I’m not referring to narrow AI) is incredibly fast. Unless you have direct exposure to groups like Deepmind, you have no idea how fast—it is growing at a pace close to exponential. The risk of something seriously dangerous happening is in the five-year time frame. 10 years at most.”',\n",
       " '“It seems probable that once the machine thinking method had started, it would not take long to outstrip our feeble powers… They would be able to converse with each other to sharpen their wits. At some stage, therefore, we should have to expect the machines to take control.”',\n",
       " '“If people trust artificial intelligence (AI) to drive a car, people will most likely trust AI to do your job.”\\xa0',\n",
       " '“People worry that computers will get too smart and take over the world, but the real problem is that they’re too stupid and they’ve already taken over the world.”']"
      ]
     },
     "execution_count": 96,
     "metadata": {},
     "output_type": "execute_result"
    }
   ],
   "source": [
    "humanity_quote"
   ]
  },
  {
   "cell_type": "code",
   "execution_count": 97,
   "id": "202a14de-53b5-4760-bc44-0146410fb2c1",
   "metadata": {},
   "outputs": [
    {
     "data": {
      "text/plain": [
       "['– Ray Kurzweil',\n",
       " '– Nick Bostrom',\n",
       " '– Stephen Hawking',\n",
       " '– Elon Musk',\n",
       " '– Alan Turing',\n",
       " '– Dave Waters',\n",
       " '– Pedro Domingos']"
      ]
     },
     "execution_count": 97,
     "metadata": {},
     "output_type": "execute_result"
    }
   ],
   "source": [
    "humanity_author"
   ]
  },
  {
   "cell_type": "code",
   "execution_count": 98,
   "id": "ce990de7-9d75-4781-a68e-fde0d00ebdf4",
   "metadata": {},
   "outputs": [],
   "source": [
    "evolution=new[34:48]\n",
    "evolution_quote=[]\n",
    "evolution_author=[]\n",
    "for i in range(0,len(evolution)-1,2):\n",
    "    evolution_quote.append(evolution[i])\n",
    "for j in range(1,len(evolution),2):\n",
    "    evolution_author.append(evolution[j])\n",
    "    j=j+1"
   ]
  },
  {
   "cell_type": "code",
   "execution_count": 99,
   "id": "0802e41a-c065-4ea6-92d3-77e8318fb154",
   "metadata": {},
   "outputs": [
    {
     "data": {
      "text/plain": [
       "['“Anything that could give rise to smarter-than-human intelligence—in the form of Artificial Intelligence, brain-computer interfaces, or neuroscience-based human intelligence enhancement – wins hands down beyond contest as doing the most to change the world. Nothing else is even in the same league.”',\n",
       " '“Some people worry that artificial intelligence will make us feel inferior, but then, anybody in his right mind should have an inferiority complex every time he looks at a flower.”',\n",
       " '“Artificial intelligence will reach human levels by around 2029. Follow that out further to, say, 2045, we will have multiplied the intelligence, the human biological machine intelligence of our civilization a billion-fold.”',\n",
       " '“I visualise a time when we will be to robots what dogs are to humans, and I’m rooting for the machines.”',\n",
       " '“It’s going to be interesting to see how society deals with artificial intelligence, but it will definitely be cool.”',\n",
       " '“Artificial intelligence is growing up fast, as are robots whose facial expressions can elicit empathy and make your mirror neurons quiver.”',\n",
       " '“A computer would deserve to be called intelligent if it could deceive a human into believing that it was human.”']"
      ]
     },
     "execution_count": 99,
     "metadata": {},
     "output_type": "execute_result"
    }
   ],
   "source": [
    "evolution_quote"
   ]
  },
  {
   "cell_type": "code",
   "execution_count": 100,
   "id": "0d487681-9fed-4bae-81bb-341b9be73d5e",
   "metadata": {},
   "outputs": [
    {
     "data": {
      "text/plain": [
       "['– Eliezer Yudkowsky',\n",
       " '– Alan Kay',\n",
       " '– Ray Kurzweil',\n",
       " '– Claude Shannon',\n",
       " '– Colin Angle',\n",
       " '– Diane Ackerman',\n",
       " '– Alan Turing']"
      ]
     },
     "execution_count": 100,
     "metadata": {},
     "output_type": "execute_result"
    }
   ],
   "source": [
    "evolution_author"
   ]
  },
  {
   "cell_type": "code",
   "execution_count": 115,
   "id": "4243897d-0a4b-48cd-8114-99c1ce5eabea",
   "metadata": {},
   "outputs": [],
   "source": [
    "emotions=new[49:68]\n",
    "emotions_quote=[]\n",
    "emotions_author=[]\n",
    "for i in range(0,len(emotions)-1,2):\n",
    "    emotions_quote.append(emotions[i])\n",
    "for j in range(1,len(emotions),2):\n",
    "    emotions_author.append(emotions[j])\n",
    "    j=j+1"
   ]
  },
  {
   "cell_type": "code",
   "execution_count": 116,
   "id": "77c5963d-6454-4e64-a626-19804c718e29",
   "metadata": {},
   "outputs": [
    {
     "data": {
      "text/plain": [
       "['“I’m more frightened than interested by artificial intelligence – in fact, perhaps fright and interest are not far away from one another. Things can become real in your mind, you can be tricked, and you believe things you wouldn’t ordinarily. A world run by automatons doesn’t seem completely unrealistic anymore. It’s a bit chilling.”',\n",
       " '“Why give a robot an order to obey orders—why aren’t the original orders enough? Why command a robot not to do harm—wouldn’t it be easier never to command it to do harm in the first place?”',\n",
       " '“AI doesn’t have to be evil to destroy humanity – if AI has a goal and humanity just happens to come in the way, it will destroy humanity as a matter of course without even thinking about it, no hard feelings.”',\n",
       " '“As more and more artificial intelligence is entering into the world, more and more emotional intelligence must enter into leadership.”',\n",
       " '“I’m increasingly inclined to think that there should be some regulatory oversight, maybe at the national and international level, just to make sure that we don’t do something very foolish. I mean with artificial intelligence we’re summoning the demon.”\\xa0',\n",
       " '“As more and more artificial intelligence is entering into the world, more and more emotional intelligence must enter into leadership.”',\n",
       " '“I’m more frightened than interested by artificial intelligence – in fact, perhaps fright and interest are not far away from one another. Things can become real in your mind, you can be tricked, and you believe things you wouldn’t ordinarily. A world run by automatons doesn’t seem completely unrealistic anymore. It’s a bit chilling.”\\xa0',\n",
       " '“The upheavals [of artificial intelligence] can escalate quickly and become scarier and even cataclysmic. Imagine how a medical robot, originally programmed to rid cancer, could conclude that the best way to obliterate cancer is to exterminate humans who are genetically prone to the disease.”',\n",
       " '“The development of full artificial intelligence could spell the end of the human race….It would take off on its own, and re-design itself at an ever-increasing rate. Humans, who are limited by slow biological evolution, couldn’t compete, and would be superseded.”']"
      ]
     },
     "execution_count": 116,
     "metadata": {},
     "output_type": "execute_result"
    }
   ],
   "source": [
    "emotions_quote"
   ]
  },
  {
   "cell_type": "code",
   "execution_count": 117,
   "id": "d7db8f19-38b3-4eab-9c87-494e9664746d",
   "metadata": {},
   "outputs": [
    {
     "data": {
      "text/plain": [
       "['– Gemma Whelan',\n",
       " '– Steven Pinker',\n",
       " '– Elon Musk',\n",
       " '– Amit Ray',\n",
       " '– Elon Musk',\n",
       " '– Amit Ray',\n",
       " '– Gemma Whelan',\n",
       " '– Nick Bilton',\n",
       " '– Stephen Hawking']"
      ]
     },
     "execution_count": 117,
     "metadata": {},
     "output_type": "execute_result"
    }
   ],
   "source": [
    "emotions_author"
   ]
  },
  {
   "cell_type": "code",
   "execution_count": 119,
   "id": "bb066dc9-505d-41ed-9afa-57fd1f95c240",
   "metadata": {},
   "outputs": [],
   "source": [
    "regulation=new[70:85]\n",
    "regulation_quote=[]\n",
    "regulation_author=[]\n",
    "for i in range(0,len(regulation)-1,2):\n",
    "    regulation_quote.append(regulation[i])\n",
    "for j in range(1,len(regulation),2):\n",
    "    regulation_author.append(regulation[j])\n",
    "    j=j+1"
   ]
  },
  {
   "cell_type": "code",
   "execution_count": 120,
   "id": "44de81c1-f8d2-414e-99e3-ad142ee7a9c1",
   "metadata": {},
   "outputs": [
    {
     "data": {
      "text/plain": [
       "['“If the government regulates against the use of drones or stem cells or artificial intelligence, all that means is that the work and the research leave the borders of that country and go someplace else.”',\n",
       " '“The real question is, when will we draft an artificial intelligence bill of rights? What will that consist of? And who will get to decide that?”',\n",
       " '“By far, the greatest danger of Artificial Intelligence is that people conclude too early that they understand it.”',\n",
       " '“If we do it right, we might be able to evolve a form of work that taps into our uniquely human capabilities and restores our humanity. The ultimate paradox is that this technology may become a powerful catalyst that we need to reclaim our humanity.”',\n",
       " '“I’m increasingly inclined to think that there should be some regulatory oversight, maybe at the national and international level, just to make sure that we don’t do something very foolish. I mean with artificial intelligence we’re summoning the demon.”',\n",
       " '“I don’t want to really scare you, but it was alarming how many people I talked to who are highly placed people in AI who have retreats that are sort of ‘bug out’ houses, to which they could flee if it all hits the fan.”',\n",
       " '“We have seen AI providing conversation and comfort to the lonely; we have also seen AI engaging in racial discrimination. Yet the biggest harm that AI is likely to do to individuals in the short term is job displacement, as the amount of work we can automate with AI is vastly larger than before. As leaders, it is incumbent on all of us to make sure we are building a world in which every individual has an opportunity to thrive.”']"
      ]
     },
     "execution_count": 120,
     "metadata": {},
     "output_type": "execute_result"
    }
   ],
   "source": [
    "regulation_quote"
   ]
  },
  {
   "cell_type": "code",
   "execution_count": 121,
   "id": "82022c83-7555-4164-b374-95b5a3cf1ebf",
   "metadata": {},
   "outputs": [
    {
     "data": {
      "text/plain": [
       "['– Peter Diamandis',\n",
       " '– Gray Scott',\n",
       " '– Eliezer Yudkowsky',\n",
       " '– John Hagel',\n",
       " '– Elon Musk',\n",
       " '– James Barrat',\n",
       " '– Andrew Ng']"
      ]
     },
     "execution_count": 121,
     "metadata": {},
     "output_type": "execute_result"
    }
   ],
   "source": [
    "regulation_author"
   ]
  },
  {
   "cell_type": "code",
   "execution_count": 132,
   "id": "10b8e7eb-8e09-4a8d-ae63-0ffae48b2a65",
   "metadata": {},
   "outputs": [],
   "source": [
    "category=[]\n",
    "for i in range(39):\n",
    "    category.append('AI')"
   ]
  },
  {
   "cell_type": "code",
   "execution_count": 134,
   "id": "a0b70ecd-13a2-4bbb-b8cd-fe29a5c9c529",
   "metadata": {},
   "outputs": [],
   "source": [
    "dict1={'quote':ai_quote+humanity_quote+evolution_quote+emotions_quote+regulation_quote,'author':ai_author+humanity_author+evolution_author+emotions_author+regulation_author,'category':category}"
   ]
  },
  {
   "cell_type": "code",
   "execution_count": 135,
   "id": "0a0eb396-e58e-4e43-8ca5-09f35f55c2e3",
   "metadata": {},
   "outputs": [
    {
     "data": {
      "text/plain": [
       "{'quote': ['“The coming era of Artificial Intelligence will not be the era of war, but be the era of deep compassion, non-violence, and love.”',\n",
       "  '“Artificial intelligence would be the ultimate version of Google. The ultimate search engine that would understand everything on the web. It would understand exactly what you wanted, and it would give you the right thing. We’re nowhere near doing that now. However, we can get incrementally closer to that, and that is basically what we work on.”',\n",
       "  '“Cyber hygiene, patching vulnerabilities, security by design, threat hunting, and machine learning-based artificial intelligence are mandatory prerequisites for cyber defense against the next generation threat landscape.”',\n",
       "  '“You have to talk about ‘The Terminator’ if you’re talking about artificial intelligence. I actually think that that’s way off. I don’t think that an artificially intelligent system that has superhuman intelligence will be violent. I do think that it will disrupt our culture.”',\n",
       "  '“I believe that at the end of the century the use of words and general educated opinion will have altered so much that one will be able to speak of machines thinking without expecting to be contradicted.”',\n",
       "  '“Robots are not going to replace humans, they are going to make their jobs much more humane. Difficult, demeaning, demanding, dangerous, dull – these are the jobs robots will be taking.',\n",
       "  '“The ultimate search engine would understand everything in the world. It would understand everything that you asked it and give you back the exact right thing instantly. You could ask ‘what should I ask Larry?’ and it would tell you.”\\xa0',\n",
       "  '“The key to artificial intelligence has always been the representation.”',\n",
       "  '“Some people call this artificial intelligence, but the reality is this technology will enhance us. So instead of artificial intelligence, I think we’ll augment our intelligence.”',\n",
       "  '“Artificial intelligence will reach human levels by around 2029. Follow that out further to, say, 2045, and we will have multiplied the intelligence – the human biological machine intelligence of our civilization – a billion-fold.”',\n",
       "  '“Machine intelligence is the last invention that humanity will ever need to make.”\\xa0',\n",
       "  '“Success in creating AI would be the biggest event in human history. Unfortunately, it might also be the last, unless we learn how to avoid the risks.”',\n",
       "  '“The pace of progress in artificial intelligence (I’m not referring to narrow AI) is incredibly fast. Unless you have direct exposure to groups like Deepmind, you have no idea how fast—it is growing at a pace close to exponential. The risk of something seriously dangerous happening is in the five-year time frame. 10 years at most.”',\n",
       "  '“It seems probable that once the machine thinking method had started, it would not take long to outstrip our feeble powers… They would be able to converse with each other to sharpen their wits. At some stage, therefore, we should have to expect the machines to take control.”',\n",
       "  '“If people trust artificial intelligence (AI) to drive a car, people will most likely trust AI to do your job.”\\xa0',\n",
       "  '“People worry that computers will get too smart and take over the world, but the real problem is that they’re too stupid and they’ve already taken over the world.”',\n",
       "  '“Anything that could give rise to smarter-than-human intelligence—in the form of Artificial Intelligence, brain-computer interfaces, or neuroscience-based human intelligence enhancement – wins hands down beyond contest as doing the most to change the world. Nothing else is even in the same league.”',\n",
       "  '“Some people worry that artificial intelligence will make us feel inferior, but then, anybody in his right mind should have an inferiority complex every time he looks at a flower.”',\n",
       "  '“Artificial intelligence will reach human levels by around 2029. Follow that out further to, say, 2045, we will have multiplied the intelligence, the human biological machine intelligence of our civilization a billion-fold.”',\n",
       "  '“I visualise a time when we will be to robots what dogs are to humans, and I’m rooting for the machines.”',\n",
       "  '“It’s going to be interesting to see how society deals with artificial intelligence, but it will definitely be cool.”',\n",
       "  '“Artificial intelligence is growing up fast, as are robots whose facial expressions can elicit empathy and make your mirror neurons quiver.”',\n",
       "  '“A computer would deserve to be called intelligent if it could deceive a human into believing that it was human.”',\n",
       "  '“I’m more frightened than interested by artificial intelligence – in fact, perhaps fright and interest are not far away from one another. Things can become real in your mind, you can be tricked, and you believe things you wouldn’t ordinarily. A world run by automatons doesn’t seem completely unrealistic anymore. It’s a bit chilling.”',\n",
       "  '“Why give a robot an order to obey orders—why aren’t the original orders enough? Why command a robot not to do harm—wouldn’t it be easier never to command it to do harm in the first place?”',\n",
       "  '“AI doesn’t have to be evil to destroy humanity – if AI has a goal and humanity just happens to come in the way, it will destroy humanity as a matter of course without even thinking about it, no hard feelings.”',\n",
       "  '“As more and more artificial intelligence is entering into the world, more and more emotional intelligence must enter into leadership.”',\n",
       "  '“I’m increasingly inclined to think that there should be some regulatory oversight, maybe at the national and international level, just to make sure that we don’t do something very foolish. I mean with artificial intelligence we’re summoning the demon.”\\xa0',\n",
       "  '“As more and more artificial intelligence is entering into the world, more and more emotional intelligence must enter into leadership.”',\n",
       "  '“I’m more frightened than interested by artificial intelligence – in fact, perhaps fright and interest are not far away from one another. Things can become real in your mind, you can be tricked, and you believe things you wouldn’t ordinarily. A world run by automatons doesn’t seem completely unrealistic anymore. It’s a bit chilling.”\\xa0',\n",
       "  '“The upheavals [of artificial intelligence] can escalate quickly and become scarier and even cataclysmic. Imagine how a medical robot, originally programmed to rid cancer, could conclude that the best way to obliterate cancer is to exterminate humans who are genetically prone to the disease.”',\n",
       "  '“The development of full artificial intelligence could spell the end of the human race….It would take off on its own, and re-design itself at an ever-increasing rate. Humans, who are limited by slow biological evolution, couldn’t compete, and would be superseded.”',\n",
       "  '“If the government regulates against the use of drones or stem cells or artificial intelligence, all that means is that the work and the research leave the borders of that country and go someplace else.”',\n",
       "  '“The real question is, when will we draft an artificial intelligence bill of rights? What will that consist of? And who will get to decide that?”',\n",
       "  '“By far, the greatest danger of Artificial Intelligence is that people conclude too early that they understand it.”',\n",
       "  '“If we do it right, we might be able to evolve a form of work that taps into our uniquely human capabilities and restores our humanity. The ultimate paradox is that this technology may become a powerful catalyst that we need to reclaim our humanity.”',\n",
       "  '“I’m increasingly inclined to think that there should be some regulatory oversight, maybe at the national and international level, just to make sure that we don’t do something very foolish. I mean with artificial intelligence we’re summoning the demon.”',\n",
       "  '“I don’t want to really scare you, but it was alarming how many people I talked to who are highly placed people in AI who have retreats that are sort of ‘bug out’ houses, to which they could flee if it all hits the fan.”',\n",
       "  '“We have seen AI providing conversation and comfort to the lonely; we have also seen AI engaging in racial discrimination. Yet the biggest harm that AI is likely to do to individuals in the short term is job displacement, as the amount of work we can automate with AI is vastly larger than before. As leaders, it is incumbent on all of us to make sure we are building a world in which every individual has an opportunity to thrive.”'],\n",
       " 'author': ['– Amit Ray',\n",
       "  '– Larry Page',\n",
       "  '– James Scott',\n",
       "  '– Gray Scott',\n",
       "  '– Alan Turing',\n",
       "  '– Sabine Hauert',\n",
       "  '– Larry Page',\n",
       "  '– Jeff Hawkins',\n",
       "  '– Ginni Rometty',\n",
       "  '– Ray Kurzweil',\n",
       "  '– Nick Bostrom',\n",
       "  '– Stephen Hawking',\n",
       "  '– Elon Musk',\n",
       "  '– Alan Turing',\n",
       "  '– Dave Waters',\n",
       "  '– Pedro Domingos',\n",
       "  '– Eliezer Yudkowsky',\n",
       "  '– Alan Kay',\n",
       "  '– Ray Kurzweil',\n",
       "  '– Claude Shannon',\n",
       "  '– Colin Angle',\n",
       "  '– Diane Ackerman',\n",
       "  '– Alan Turing',\n",
       "  '– Gemma Whelan',\n",
       "  '– Steven Pinker',\n",
       "  '– Elon Musk',\n",
       "  '– Amit Ray',\n",
       "  '– Elon Musk',\n",
       "  '– Amit Ray',\n",
       "  '– Gemma Whelan',\n",
       "  '– Nick Bilton',\n",
       "  '– Stephen Hawking',\n",
       "  '– Peter Diamandis',\n",
       "  '– Gray Scott',\n",
       "  '– Eliezer Yudkowsky',\n",
       "  '– John Hagel',\n",
       "  '– Elon Musk',\n",
       "  '– James Barrat',\n",
       "  '– Andrew Ng'],\n",
       " 'category': ['AI',\n",
       "  'AI',\n",
       "  'AI',\n",
       "  'AI',\n",
       "  'AI',\n",
       "  'AI',\n",
       "  'AI',\n",
       "  'AI',\n",
       "  'AI',\n",
       "  'AI',\n",
       "  'AI',\n",
       "  'AI',\n",
       "  'AI',\n",
       "  'AI',\n",
       "  'AI',\n",
       "  'AI',\n",
       "  'AI',\n",
       "  'AI',\n",
       "  'AI',\n",
       "  'AI',\n",
       "  'AI',\n",
       "  'AI',\n",
       "  'AI',\n",
       "  'AI',\n",
       "  'AI',\n",
       "  'AI',\n",
       "  'AI',\n",
       "  'AI',\n",
       "  'AI',\n",
       "  'AI',\n",
       "  'AI',\n",
       "  'AI',\n",
       "  'AI',\n",
       "  'AI',\n",
       "  'AI',\n",
       "  'AI',\n",
       "  'AI',\n",
       "  'AI',\n",
       "  'AI']}"
      ]
     },
     "execution_count": 135,
     "metadata": {},
     "output_type": "execute_result"
    }
   ],
   "source": [
    "dict1"
   ]
  },
  {
   "cell_type": "code",
   "execution_count": 136,
   "id": "d5223b7f-407e-47f0-8cad-e3692ed7069a",
   "metadata": {},
   "outputs": [],
   "source": [
    "import pandas as pd\n",
    "df_ai=pd.DataFrame(dict1)"
   ]
  },
  {
   "cell_type": "code",
   "execution_count": 137,
   "id": "d43e9bd1-dd98-4415-9243-e1d1158bd152",
   "metadata": {},
   "outputs": [
    {
     "data": {
      "text/html": [
       "<div>\n",
       "<style scoped>\n",
       "    .dataframe tbody tr th:only-of-type {\n",
       "        vertical-align: middle;\n",
       "    }\n",
       "\n",
       "    .dataframe tbody tr th {\n",
       "        vertical-align: top;\n",
       "    }\n",
       "\n",
       "    .dataframe thead th {\n",
       "        text-align: right;\n",
       "    }\n",
       "</style>\n",
       "<table border=\"1\" class=\"dataframe\">\n",
       "  <thead>\n",
       "    <tr style=\"text-align: right;\">\n",
       "      <th></th>\n",
       "      <th>quote</th>\n",
       "      <th>author</th>\n",
       "      <th>category</th>\n",
       "    </tr>\n",
       "  </thead>\n",
       "  <tbody>\n",
       "    <tr>\n",
       "      <th>0</th>\n",
       "      <td>“The coming era of Artificial Intelligence wil...</td>\n",
       "      <td>– Amit Ray</td>\n",
       "      <td>AI</td>\n",
       "    </tr>\n",
       "    <tr>\n",
       "      <th>1</th>\n",
       "      <td>“Artificial intelligence would be the ultimate...</td>\n",
       "      <td>– Larry Page</td>\n",
       "      <td>AI</td>\n",
       "    </tr>\n",
       "    <tr>\n",
       "      <th>2</th>\n",
       "      <td>“Cyber hygiene, patching vulnerabilities, secu...</td>\n",
       "      <td>– James Scott</td>\n",
       "      <td>AI</td>\n",
       "    </tr>\n",
       "    <tr>\n",
       "      <th>3</th>\n",
       "      <td>“You have to talk about ‘The Terminator’ if yo...</td>\n",
       "      <td>– Gray Scott</td>\n",
       "      <td>AI</td>\n",
       "    </tr>\n",
       "    <tr>\n",
       "      <th>4</th>\n",
       "      <td>“I believe that at the end of the century the ...</td>\n",
       "      <td>– Alan Turing</td>\n",
       "      <td>AI</td>\n",
       "    </tr>\n",
       "    <tr>\n",
       "      <th>5</th>\n",
       "      <td>“Robots are not going to replace humans, they ...</td>\n",
       "      <td>– Sabine Hauert</td>\n",
       "      <td>AI</td>\n",
       "    </tr>\n",
       "    <tr>\n",
       "      <th>6</th>\n",
       "      <td>“The ultimate search engine would understand e...</td>\n",
       "      <td>– Larry Page</td>\n",
       "      <td>AI</td>\n",
       "    </tr>\n",
       "    <tr>\n",
       "      <th>7</th>\n",
       "      <td>“The key to artificial intelligence has always...</td>\n",
       "      <td>– Jeff Hawkins</td>\n",
       "      <td>AI</td>\n",
       "    </tr>\n",
       "    <tr>\n",
       "      <th>8</th>\n",
       "      <td>“Some people call this artificial intelligence...</td>\n",
       "      <td>– Ginni Rometty</td>\n",
       "      <td>AI</td>\n",
       "    </tr>\n",
       "    <tr>\n",
       "      <th>9</th>\n",
       "      <td>“Artificial intelligence will reach human leve...</td>\n",
       "      <td>– Ray Kurzweil</td>\n",
       "      <td>AI</td>\n",
       "    </tr>\n",
       "    <tr>\n",
       "      <th>10</th>\n",
       "      <td>“Machine intelligence is the last invention th...</td>\n",
       "      <td>– Nick Bostrom</td>\n",
       "      <td>AI</td>\n",
       "    </tr>\n",
       "    <tr>\n",
       "      <th>11</th>\n",
       "      <td>“Success in creating AI would be the biggest e...</td>\n",
       "      <td>– Stephen Hawking</td>\n",
       "      <td>AI</td>\n",
       "    </tr>\n",
       "    <tr>\n",
       "      <th>12</th>\n",
       "      <td>“The pace of progress in artificial intelligen...</td>\n",
       "      <td>– Elon Musk</td>\n",
       "      <td>AI</td>\n",
       "    </tr>\n",
       "    <tr>\n",
       "      <th>13</th>\n",
       "      <td>“It seems probable that once the machine think...</td>\n",
       "      <td>– Alan Turing</td>\n",
       "      <td>AI</td>\n",
       "    </tr>\n",
       "    <tr>\n",
       "      <th>14</th>\n",
       "      <td>“If people trust artificial intelligence (AI) ...</td>\n",
       "      <td>– Dave Waters</td>\n",
       "      <td>AI</td>\n",
       "    </tr>\n",
       "    <tr>\n",
       "      <th>15</th>\n",
       "      <td>“People worry that computers will get too smar...</td>\n",
       "      <td>– Pedro Domingos</td>\n",
       "      <td>AI</td>\n",
       "    </tr>\n",
       "    <tr>\n",
       "      <th>16</th>\n",
       "      <td>“Anything that could give rise to smarter-than...</td>\n",
       "      <td>– Eliezer Yudkowsky</td>\n",
       "      <td>AI</td>\n",
       "    </tr>\n",
       "    <tr>\n",
       "      <th>17</th>\n",
       "      <td>“Some people worry that artificial intelligenc...</td>\n",
       "      <td>– Alan Kay</td>\n",
       "      <td>AI</td>\n",
       "    </tr>\n",
       "    <tr>\n",
       "      <th>18</th>\n",
       "      <td>“Artificial intelligence will reach human leve...</td>\n",
       "      <td>– Ray Kurzweil</td>\n",
       "      <td>AI</td>\n",
       "    </tr>\n",
       "    <tr>\n",
       "      <th>19</th>\n",
       "      <td>“I visualise a time when we will be to robots ...</td>\n",
       "      <td>– Claude Shannon</td>\n",
       "      <td>AI</td>\n",
       "    </tr>\n",
       "    <tr>\n",
       "      <th>20</th>\n",
       "      <td>“It’s going to be interesting to see how socie...</td>\n",
       "      <td>– Colin Angle</td>\n",
       "      <td>AI</td>\n",
       "    </tr>\n",
       "    <tr>\n",
       "      <th>21</th>\n",
       "      <td>“Artificial intelligence is growing up fast, a...</td>\n",
       "      <td>– Diane Ackerman</td>\n",
       "      <td>AI</td>\n",
       "    </tr>\n",
       "    <tr>\n",
       "      <th>22</th>\n",
       "      <td>“A computer would deserve to be called intelli...</td>\n",
       "      <td>– Alan Turing</td>\n",
       "      <td>AI</td>\n",
       "    </tr>\n",
       "    <tr>\n",
       "      <th>23</th>\n",
       "      <td>“I’m more frightened than interested by artifi...</td>\n",
       "      <td>– Gemma Whelan</td>\n",
       "      <td>AI</td>\n",
       "    </tr>\n",
       "    <tr>\n",
       "      <th>24</th>\n",
       "      <td>“Why give a robot an order to obey orders—why ...</td>\n",
       "      <td>– Steven Pinker</td>\n",
       "      <td>AI</td>\n",
       "    </tr>\n",
       "    <tr>\n",
       "      <th>25</th>\n",
       "      <td>“AI doesn’t have to be evil to destroy humanit...</td>\n",
       "      <td>– Elon Musk</td>\n",
       "      <td>AI</td>\n",
       "    </tr>\n",
       "    <tr>\n",
       "      <th>26</th>\n",
       "      <td>“As more and more artificial intelligence is e...</td>\n",
       "      <td>– Amit Ray</td>\n",
       "      <td>AI</td>\n",
       "    </tr>\n",
       "    <tr>\n",
       "      <th>27</th>\n",
       "      <td>“I’m increasingly inclined to think that there...</td>\n",
       "      <td>– Elon Musk</td>\n",
       "      <td>AI</td>\n",
       "    </tr>\n",
       "    <tr>\n",
       "      <th>28</th>\n",
       "      <td>“As more and more artificial intelligence is e...</td>\n",
       "      <td>– Amit Ray</td>\n",
       "      <td>AI</td>\n",
       "    </tr>\n",
       "    <tr>\n",
       "      <th>29</th>\n",
       "      <td>“I’m more frightened than interested by artifi...</td>\n",
       "      <td>– Gemma Whelan</td>\n",
       "      <td>AI</td>\n",
       "    </tr>\n",
       "    <tr>\n",
       "      <th>30</th>\n",
       "      <td>“The upheavals [of artificial intelligence] ca...</td>\n",
       "      <td>– Nick Bilton</td>\n",
       "      <td>AI</td>\n",
       "    </tr>\n",
       "    <tr>\n",
       "      <th>31</th>\n",
       "      <td>“The development of full artificial intelligen...</td>\n",
       "      <td>– Stephen Hawking</td>\n",
       "      <td>AI</td>\n",
       "    </tr>\n",
       "    <tr>\n",
       "      <th>32</th>\n",
       "      <td>“If the government regulates against the use o...</td>\n",
       "      <td>– Peter Diamandis</td>\n",
       "      <td>AI</td>\n",
       "    </tr>\n",
       "    <tr>\n",
       "      <th>33</th>\n",
       "      <td>“The real question is, when will we draft an a...</td>\n",
       "      <td>– Gray Scott</td>\n",
       "      <td>AI</td>\n",
       "    </tr>\n",
       "    <tr>\n",
       "      <th>34</th>\n",
       "      <td>“By far, the greatest danger of Artificial Int...</td>\n",
       "      <td>– Eliezer Yudkowsky</td>\n",
       "      <td>AI</td>\n",
       "    </tr>\n",
       "    <tr>\n",
       "      <th>35</th>\n",
       "      <td>“If we do it right, we might be able to evolve...</td>\n",
       "      <td>– John Hagel</td>\n",
       "      <td>AI</td>\n",
       "    </tr>\n",
       "    <tr>\n",
       "      <th>36</th>\n",
       "      <td>“I’m increasingly inclined to think that there...</td>\n",
       "      <td>– Elon Musk</td>\n",
       "      <td>AI</td>\n",
       "    </tr>\n",
       "    <tr>\n",
       "      <th>37</th>\n",
       "      <td>“I don’t want to really scare you, but it was ...</td>\n",
       "      <td>– James Barrat</td>\n",
       "      <td>AI</td>\n",
       "    </tr>\n",
       "    <tr>\n",
       "      <th>38</th>\n",
       "      <td>“We have seen AI providing conversation and co...</td>\n",
       "      <td>– Andrew Ng</td>\n",
       "      <td>AI</td>\n",
       "    </tr>\n",
       "  </tbody>\n",
       "</table>\n",
       "</div>"
      ],
      "text/plain": [
       "                                                quote               author  \\\n",
       "0   “The coming era of Artificial Intelligence wil...           – Amit Ray   \n",
       "1   “Artificial intelligence would be the ultimate...         – Larry Page   \n",
       "2   “Cyber hygiene, patching vulnerabilities, secu...        – James Scott   \n",
       "3   “You have to talk about ‘The Terminator’ if yo...         – Gray Scott   \n",
       "4   “I believe that at the end of the century the ...        – Alan Turing   \n",
       "5   “Robots are not going to replace humans, they ...      – Sabine Hauert   \n",
       "6   “The ultimate search engine would understand e...         – Larry Page   \n",
       "7   “The key to artificial intelligence has always...       – Jeff Hawkins   \n",
       "8   “Some people call this artificial intelligence...      – Ginni Rometty   \n",
       "9   “Artificial intelligence will reach human leve...       – Ray Kurzweil   \n",
       "10  “Machine intelligence is the last invention th...       – Nick Bostrom   \n",
       "11  “Success in creating AI would be the biggest e...    – Stephen Hawking   \n",
       "12  “The pace of progress in artificial intelligen...          – Elon Musk   \n",
       "13  “It seems probable that once the machine think...        – Alan Turing   \n",
       "14  “If people trust artificial intelligence (AI) ...        – Dave Waters   \n",
       "15  “People worry that computers will get too smar...     – Pedro Domingos   \n",
       "16  “Anything that could give rise to smarter-than...  – Eliezer Yudkowsky   \n",
       "17  “Some people worry that artificial intelligenc...           – Alan Kay   \n",
       "18  “Artificial intelligence will reach human leve...       – Ray Kurzweil   \n",
       "19  “I visualise a time when we will be to robots ...     – Claude Shannon   \n",
       "20  “It’s going to be interesting to see how socie...        – Colin Angle   \n",
       "21  “Artificial intelligence is growing up fast, a...     – Diane Ackerman   \n",
       "22  “A computer would deserve to be called intelli...        – Alan Turing   \n",
       "23  “I’m more frightened than interested by artifi...       – Gemma Whelan   \n",
       "24  “Why give a robot an order to obey orders—why ...      – Steven Pinker   \n",
       "25  “AI doesn’t have to be evil to destroy humanit...          – Elon Musk   \n",
       "26  “As more and more artificial intelligence is e...           – Amit Ray   \n",
       "27  “I’m increasingly inclined to think that there...          – Elon Musk   \n",
       "28  “As more and more artificial intelligence is e...           – Amit Ray   \n",
       "29  “I’m more frightened than interested by artifi...       – Gemma Whelan   \n",
       "30  “The upheavals [of artificial intelligence] ca...        – Nick Bilton   \n",
       "31  “The development of full artificial intelligen...    – Stephen Hawking   \n",
       "32  “If the government regulates against the use o...    – Peter Diamandis   \n",
       "33  “The real question is, when will we draft an a...         – Gray Scott   \n",
       "34  “By far, the greatest danger of Artificial Int...  – Eliezer Yudkowsky   \n",
       "35  “If we do it right, we might be able to evolve...         – John Hagel   \n",
       "36  “I’m increasingly inclined to think that there...          – Elon Musk   \n",
       "37  “I don’t want to really scare you, but it was ...       – James Barrat   \n",
       "38  “We have seen AI providing conversation and co...          – Andrew Ng   \n",
       "\n",
       "   category  \n",
       "0        AI  \n",
       "1        AI  \n",
       "2        AI  \n",
       "3        AI  \n",
       "4        AI  \n",
       "5        AI  \n",
       "6        AI  \n",
       "7        AI  \n",
       "8        AI  \n",
       "9        AI  \n",
       "10       AI  \n",
       "11       AI  \n",
       "12       AI  \n",
       "13       AI  \n",
       "14       AI  \n",
       "15       AI  \n",
       "16       AI  \n",
       "17       AI  \n",
       "18       AI  \n",
       "19       AI  \n",
       "20       AI  \n",
       "21       AI  \n",
       "22       AI  \n",
       "23       AI  \n",
       "24       AI  \n",
       "25       AI  \n",
       "26       AI  \n",
       "27       AI  \n",
       "28       AI  \n",
       "29       AI  \n",
       "30       AI  \n",
       "31       AI  \n",
       "32       AI  \n",
       "33       AI  \n",
       "34       AI  \n",
       "35       AI  \n",
       "36       AI  \n",
       "37       AI  \n",
       "38       AI  "
      ]
     },
     "execution_count": 137,
     "metadata": {},
     "output_type": "execute_result"
    }
   ],
   "source": [
    "df_ai"
   ]
  },
  {
   "cell_type": "code",
   "execution_count": 152,
   "id": "3892f848-5091-45c2-8446-bd0a9ea45cd1",
   "metadata": {},
   "outputs": [
    {
     "name": "stdout",
     "output_type": "stream",
     "text": [
      "NEECHE IS ALL THE QOUTES\n",
      "NEECHE IS ALL THE AUTHORS\n"
     ]
    }
   ],
   "source": [
    "import os\n",
    "from bs4 import BeautifulSoup\n",
    "from selenium import webdriver\n",
    "import sys\n",
    "import json\n",
    "from selenium.webdriver.chrome.service import Service\n",
    "from webdriver_manager.chrome import ChromeDriverManager\n",
    "\n",
    "\n",
    "# In[2]:\n",
    "\n",
    "\n",
    "# chromedriver = os.path.expanduser(r\"C:\\Users\\Atharv\\Downloads\\chromedriver_win32\\chromedriver\")\n",
    "# print('chromedriver path: {}'.format(chromedriver))\n",
    "# sys.path.append(chromedriver)\n",
    "driver = webdriver.Chrome(service=Service(ChromeDriverManager().install()))\n",
    "\n",
    "\n",
    "# In[3]:\n",
    "\n",
    "l1 = []\n",
    "l2=[]\n",
    "\n",
    "quotes=[]\n",
    "authors=[]\n",
    "\n",
    "def get_house_links( driver):\n",
    "    house_links=[]\n",
    "    cities=['Mumbai']\n",
    "    for city in cities:\n",
    "        # for i in range(1,5):\n",
    "        driver.get(\"https://www.kdnuggets.com/2017/05/42-essential-quotes-data-science-thought-leaders.html\")\n",
    "        soup = BeautifulSoup(driver.page_source, 'html.parser')\n",
    "        get_data(soup)\n",
    "\n",
    "\n",
    "\n",
    "def get_data(soup):\n",
    "    prop_lst=[]\n",
    "    dic={}\n",
    "    #Flat Price\n",
    "    try:\n",
    "        # dic['IMP DATA']=soup.find(\"li\",{\"class\",\"mb-srp_card_price\"}).text\n",
    "        # dic['IMP DATA']=soup.find(\"li\").text\n",
    "        # print(\"li is \",soup.find(\"li\").text)\n",
    "\n",
    "        print(\"NEECHE IS ALL THE QOUTES\")\n",
    "\n",
    "        for something in soup.findAll(\"li\"):\n",
    "            if(something.parent.name == \"ol\"):\n",
    "                quotes.append(something.text)\n",
    "                # print(\"\")\n",
    "            # else:\n",
    "                # print(\"not found\")\n",
    "\n",
    "        print(\"NEECHE IS ALL THE AUTHORS\")\n",
    "        for something in soup.findAll(\"em\"):\n",
    "            if(something.parent.name == \"a\"):\n",
    "                authors.append(something.text)\n",
    "\n",
    "    except:\n",
    "        print(soup.find(\"li\").text)\n",
    "        dic['IMP DATA']=None\n",
    "        print(\"None\")\n",
    "\n",
    "    #Apartment Name\n",
    "    # try:\n",
    "    #     for j in soup.findAll(\"h2\",class_=\"mb-srp__card--title\"):\n",
    "    #         str1 = j.text\n",
    "    #         l2.append(str1.split(',')[1])\n",
    "    #     print(l2)\n",
    "    # except:\n",
    "    #     dic['Apartment']=None\n",
    "\n",
    "    #Flat Area\n",
    "    # try:\n",
    "    #     dic['Area']=soup.find(\"div\",{\"class\",\"mb-srp_card_summary--value\"}).text\n",
    "    # except:\n",
    "    #     dic['Area']=None\n",
    "\n",
    "    #Price of Flat per sqft\n",
    "    # try:\n",
    "    #     dic['Price per sqft']=soup.find(\"div\",{\"class\",\"mb-srp_card_area\"}).text\n",
    "    # except:\n",
    "    #     dic['Price per sqft']='Not Available'\n",
    "\n",
    "    #Type of furnishing\n",
    "    # for col_data in soup.find_all(\"div\",{\"class\":\"mb-srp_cardsummary js-collapse_content\"}):\n",
    "    #     for feat_title,feat_info in zip(col_data.find_all(\"div\",{\"class\":\"mb-srp_cardsummarytitle\"}),col_data.find_all(\"div\",{\"class\":\"mb-srpcardsummary_info\"})):\n",
    "    #         if \"furnishing\" in feat_title.text:\n",
    "    #             dic['Furnishing']=feat_info.text\n",
    "    #         if \"status\" in feat_title.text:\n",
    "    #             dic['Status']=feat_info.text\n",
    "    #Name Of Builder/Seller\n",
    "    # try:    \n",
    "    #     dic['Builder\\'s Name']=soup.find(\"div\",{\"class\",\"mb-srp_cardadvertiser_name\"}).text\n",
    "    # except:\n",
    "    #     dic['Builder\\'s Name']=None\n",
    "\n",
    "    # prop_lst.append(dic)\n",
    "    # print(prop_lst)\n",
    "\n",
    "    with open(\"data.json\",'r+') as f:\n",
    "        feeds = json.load(f)\n",
    "        for i in prop_lst:\n",
    "            feeds['property'].append(dic)\n",
    "        f.seek(0)\n",
    "        json.dump(feeds, f)\n",
    "\n",
    "\n",
    "# In[5]:\n",
    "\n",
    "\n",
    "v={\n",
    "    \"property\":[]\n",
    "}\n",
    "with open(\"data.json\", mode='w', encoding='utf-8') as f:\n",
    "    json.dump(v,f)\n",
    "\n",
    "\n",
    "# In[ ]:\n",
    "\n",
    "\n",
    "get_house_links(driver)\n",
    "\n",
    "\n",
    "# In[ ]"
   ]
  },
  {
   "cell_type": "code",
   "execution_count": 153,
   "id": "ffff359d-829e-477d-99f9-bf370dc07db6",
   "metadata": {},
   "outputs": [],
   "source": [
    "quotes=quotes[:-15]"
   ]
  },
  {
   "cell_type": "code",
   "execution_count": 154,
   "id": "910c1bf4-f5b0-464a-ad8c-0d7f81d455d6",
   "metadata": {},
   "outputs": [
    {
     "data": {
      "text/plain": [
       "22"
      ]
     },
     "execution_count": 154,
     "metadata": {},
     "output_type": "execute_result"
    }
   ],
   "source": [
    "len(authors)"
   ]
  },
  {
   "cell_type": "code",
   "execution_count": 155,
   "id": "dcb98b5d-0153-4160-96f0-09b18f050748",
   "metadata": {},
   "outputs": [
    {
     "data": {
      "text/plain": [
       "22"
      ]
     },
     "execution_count": 155,
     "metadata": {},
     "output_type": "execute_result"
    }
   ],
   "source": [
    "len(quotes)"
   ]
  },
  {
   "cell_type": "code",
   "execution_count": 156,
   "id": "636193db-257d-4850-b36b-49eb0cfed575",
   "metadata": {},
   "outputs": [
    {
     "name": "stdout",
     "output_type": "stream",
     "text": [
      "NEECHE IS ALL THE QOUTES\n",
      "NEECHE IS ALL THE AUTHORS\n"
     ]
    }
   ],
   "source": [
    "import os\n",
    "from bs4 import BeautifulSoup\n",
    "from selenium import webdriver\n",
    "import sys\n",
    "import json\n",
    "from selenium.webdriver.chrome.service import Service\n",
    "from webdriver_manager.chrome import ChromeDriverManager\n",
    "\n",
    "\n",
    "# In[2]:\n",
    "\n",
    "\n",
    "# chromedriver = os.path.expanduser(r\"C:\\Users\\Atharv\\Downloads\\chromedriver_win32\\chromedriver\")\n",
    "# print('chromedriver path: {}'.format(chromedriver))\n",
    "# sys.path.append(chromedriver)\n",
    "driver = webdriver.Chrome(service=Service(ChromeDriverManager().install()))\n",
    "\n",
    "\n",
    "# In[3]:\n",
    "\n",
    "l1 = []\n",
    "l2=[]\n",
    "\n",
    "\n",
    "def get_house_links( driver):\n",
    "    house_links=[]\n",
    "    cities=['Mumbai']\n",
    "    for city in cities:\n",
    "        # for i in range(1,5):\n",
    "        driver.get(\"https://www.kdnuggets.com/2017/05/42-essential-quotes-data-science-thought-leaders.html/2\")\n",
    "        soup = BeautifulSoup(driver.page_source, 'html.parser')\n",
    "        get_data(soup)\n",
    "\n",
    "\n",
    "\n",
    "def get_data(soup):\n",
    "    prop_lst=[]\n",
    "    dic={}\n",
    "    #Flat Price\n",
    "    try:\n",
    "        # dic['IMP DATA']=soup.find(\"li\",{\"class\",\"mb-srp_card_price\"}).text\n",
    "        # dic['IMP DATA']=soup.find(\"li\").text\n",
    "        # print(\"li is \",soup.find(\"li\").text)\n",
    "\n",
    "        print(\"NEECHE IS ALL THE QOUTES\")\n",
    "\n",
    "        for something in soup.findAll(\"li\"):\n",
    "            if(something.parent.name == \"ol\"):\n",
    "                quotes.append(something.text)\n",
    "                # print(\"\")\n",
    "            # else:\n",
    "                # print(\"not found\")\n",
    "\n",
    "        print(\"NEECHE IS ALL THE AUTHORS\")\n",
    "        for something in soup.findAll(\"em\"):\n",
    "            if(something.parent.name == \"a\"):\n",
    "                authors.append(something.text)\n",
    "\n",
    "    except:\n",
    "        print(soup.find(\"li\").text)\n",
    "        dic['IMP DATA']=None\n",
    "        print(\"None\")\n",
    "\n",
    "    #Apartment Name\n",
    "    # try:\n",
    "    #     for j in soup.findAll(\"h2\",class_=\"mb-srp__card--title\"):\n",
    "    #         str1 = j.text\n",
    "    #         l2.append(str1.split(',')[1])\n",
    "    #     print(l2)\n",
    "    # except:\n",
    "    #     dic['Apartment']=None\n",
    "\n",
    "    #Flat Area\n",
    "    # try:\n",
    "    #     dic['Area']=soup.find(\"div\",{\"class\",\"mb-srp_card_summary--value\"}).text\n",
    "    # except:\n",
    "    #     dic['Area']=None\n",
    "\n",
    "    #Price of Flat per sqft\n",
    "    # try:\n",
    "    #     dic['Price per sqft']=soup.find(\"div\",{\"class\",\"mb-srp_card_area\"}).text\n",
    "    # except:\n",
    "    #     dic['Price per sqft']='Not Available'\n",
    "\n",
    "    #Type of furnishing\n",
    "    # for col_data in soup.find_all(\"div\",{\"class\":\"mb-srp_cardsummary js-collapse_content\"}):\n",
    "    #     for feat_title,feat_info in zip(col_data.find_all(\"div\",{\"class\":\"mb-srp_cardsummarytitle\"}),col_data.find_all(\"div\",{\"class\":\"mb-srpcardsummary_info\"})):\n",
    "    #         if \"furnishing\" in feat_title.text:\n",
    "    #             dic['Furnishing']=feat_info.text\n",
    "    #         if \"status\" in feat_title.text:\n",
    "    #             dic['Status']=feat_info.text\n",
    "    #Name Of Builder/Seller\n",
    "    # try:    \n",
    "    #     dic['Builder\\'s Name']=soup.find(\"div\",{\"class\",\"mb-srp_cardadvertiser_name\"}).text\n",
    "    # except:\n",
    "    #     dic['Builder\\'s Name']=None\n",
    "\n",
    "    # prop_lst.append(dic)\n",
    "    # print(prop_lst)\n",
    "\n",
    "    with open(\"data.json\",'r+') as f:\n",
    "        feeds = json.load(f)\n",
    "        for i in prop_lst:\n",
    "            feeds['property'].append(dic)\n",
    "        f.seek(0)\n",
    "        json.dump(feeds, f)\n",
    "\n",
    "\n",
    "# In[5]:\n",
    "\n",
    "\n",
    "v={\n",
    "    \"property\":[]\n",
    "}\n",
    "with open(\"data.json\", mode='w', encoding='utf-8') as f:\n",
    "    json.dump(v,f)\n",
    "\n",
    "\n",
    "# In[ ]:\n",
    "\n",
    "\n",
    "get_house_links(driver)\n",
    "\n",
    "\n",
    "# In[ ]"
   ]
  },
  {
   "cell_type": "code",
   "execution_count": 157,
   "id": "f736ecb7-2ff0-4b2f-b6ad-698fbb0e227d",
   "metadata": {},
   "outputs": [],
   "source": [
    "quotes=quotes[:-19]"
   ]
  },
  {
   "cell_type": "code",
   "execution_count": 161,
   "id": "95f5df09-340a-4235-8cdd-1a6dba575655",
   "metadata": {},
   "outputs": [
    {
     "data": {
      "text/plain": [
       "42"
      ]
     },
     "execution_count": 161,
     "metadata": {},
     "output_type": "execute_result"
    }
   ],
   "source": [
    "len(quotes)"
   ]
  },
  {
   "cell_type": "code",
   "execution_count": 163,
   "id": "e1e674ec-e678-451d-86b8-375721def037",
   "metadata": {},
   "outputs": [],
   "source": [
    "authors.remove('Tom Fawcett')"
   ]
  },
  {
   "cell_type": "code",
   "execution_count": 165,
   "id": "c0a81e6c-19c3-4f13-ab92-cc9991be92a8",
   "metadata": {},
   "outputs": [
    {
     "data": {
      "text/plain": [
       "42"
      ]
     },
     "execution_count": 165,
     "metadata": {},
     "output_type": "execute_result"
    }
   ],
   "source": [
    "len(authors)"
   ]
  },
  {
   "cell_type": "code",
   "execution_count": 166,
   "id": "a9cacde0-a3fd-4b5c-a14c-45b565e65fb7",
   "metadata": {},
   "outputs": [],
   "source": [
    "category=[]\n",
    "for i in range(42):\n",
    "    category.append('Data Science')"
   ]
  },
  {
   "cell_type": "code",
   "execution_count": 167,
   "id": "0a8c5e1f-d7a6-4c84-86d6-327321f0a485",
   "metadata": {},
   "outputs": [
    {
     "data": {
      "text/plain": [
       "42"
      ]
     },
     "execution_count": 167,
     "metadata": {},
     "output_type": "execute_result"
    }
   ],
   "source": [
    "len(category)"
   ]
  },
  {
   "cell_type": "code",
   "execution_count": 170,
   "id": "b2b5f390-b682-4527-a152-8e346ae10cbe",
   "metadata": {},
   "outputs": [],
   "source": [
    "dict2={'quote':quotes,'author':authors,'category':category}"
   ]
  },
  {
   "cell_type": "code",
   "execution_count": 171,
   "id": "459ae728-57e8-4786-aac7-6e117ff3b4d6",
   "metadata": {},
   "outputs": [],
   "source": [
    "df_ds=pd.DataFrame(dict2)"
   ]
  },
  {
   "cell_type": "code",
   "execution_count": 172,
   "id": "20f698b0-89dc-44fb-8644-9df2b6f49a88",
   "metadata": {},
   "outputs": [
    {
     "data": {
      "text/html": [
       "<div>\n",
       "<style scoped>\n",
       "    .dataframe tbody tr th:only-of-type {\n",
       "        vertical-align: middle;\n",
       "    }\n",
       "\n",
       "    .dataframe tbody tr th {\n",
       "        vertical-align: top;\n",
       "    }\n",
       "\n",
       "    .dataframe thead th {\n",
       "        text-align: right;\n",
       "    }\n",
       "</style>\n",
       "<table border=\"1\" class=\"dataframe\">\n",
       "  <thead>\n",
       "    <tr style=\"text-align: right;\">\n",
       "      <th></th>\n",
       "      <th>quote</th>\n",
       "      <th>author</th>\n",
       "      <th>category</th>\n",
       "    </tr>\n",
       "  </thead>\n",
       "  <tbody>\n",
       "    <tr>\n",
       "      <th>0</th>\n",
       "      <td>“By definition all scientists are data scienti...</td>\n",
       "      <td>Monica Rogati</td>\n",
       "      <td>Data Science</td>\n",
       "    </tr>\n",
       "    <tr>\n",
       "      <th>1</th>\n",
       "      <td>“‘Possessed’ is probably the right word. I oft...</td>\n",
       "      <td>Jennifer Shin</td>\n",
       "      <td>Data Science</td>\n",
       "    </tr>\n",
       "    <tr>\n",
       "      <th>2</th>\n",
       "      <td>“I think of data science as more like a practi...</td>\n",
       "      <td>Bob Hayes</td>\n",
       "      <td>Data Science</td>\n",
       "    </tr>\n",
       "    <tr>\n",
       "      <th>3</th>\n",
       "      <td>“As a data scientist, I can predict what is li...</td>\n",
       "      <td>Bill Schmarzo</td>\n",
       "      <td>Data Science</td>\n",
       "    </tr>\n",
       "    <tr>\n",
       "      <th>4</th>\n",
       "      <td>“Data scientists are kind of like the new Rena...</td>\n",
       "      <td>John Foreman</td>\n",
       "      <td>Data Science</td>\n",
       "    </tr>\n",
       "    <tr>\n",
       "      <th>5</th>\n",
       "      <td>“Data Scientist (n.): Person who is better at ...</td>\n",
       "      <td>Josh Wills</td>\n",
       "      <td>Data Science</td>\n",
       "    </tr>\n",
       "    <tr>\n",
       "      <th>6</th>\n",
       "      <td>“As data scientists, our job is to extract sig...</td>\n",
       "      <td>Daniel Tunkelang</td>\n",
       "      <td>Data Science</td>\n",
       "    </tr>\n",
       "    <tr>\n",
       "      <th>7</th>\n",
       "      <td>“The job of the data scientist is to ask the r...</td>\n",
       "      <td>Hilary Mason</td>\n",
       "      <td>Data Science</td>\n",
       "    </tr>\n",
       "    <tr>\n",
       "      <th>8</th>\n",
       "      <td>“A data scientist does model-driven analyses o...</td>\n",
       "      <td>Chris Pehura</td>\n",
       "      <td>Data Science</td>\n",
       "    </tr>\n",
       "    <tr>\n",
       "      <th>9</th>\n",
       "      <td>“[Data scientists are] able to think of ways t...</td>\n",
       "      <td>Peter Skomoroch</td>\n",
       "      <td>Data Science</td>\n",
       "    </tr>\n",
       "    <tr>\n",
       "      <th>10</th>\n",
       "      <td>“What sort of personality makes for an effecti...</td>\n",
       "      <td>Carla Gentry</td>\n",
       "      <td>Data Science</td>\n",
       "    </tr>\n",
       "    <tr>\n",
       "      <th>11</th>\n",
       "      <td>“There is a saying, ‘A jack of all trades and ...</td>\n",
       "      <td>Brendan Tierney</td>\n",
       "      <td>Data Science</td>\n",
       "    </tr>\n",
       "    <tr>\n",
       "      <th>12</th>\n",
       "      <td>“My number one piece of advice always is to fo...</td>\n",
       "      <td>Dr. Kirk Borne</td>\n",
       "      <td>Data Science</td>\n",
       "    </tr>\n",
       "    <tr>\n",
       "      <th>13</th>\n",
       "      <td>“The No. 1 thing is you’ve got to have passion...</td>\n",
       "      <td>DJ Patil</td>\n",
       "      <td>Data Science</td>\n",
       "    </tr>\n",
       "    <tr>\n",
       "      <th>14</th>\n",
       "      <td>“Nobody ever talks about motivation in learnin...</td>\n",
       "      <td>Vik Paruchuri</td>\n",
       "      <td>Data Science</td>\n",
       "    </tr>\n",
       "    <tr>\n",
       "      <th>15</th>\n",
       "      <td>“I do not know how you teach someone to love t...</td>\n",
       "      <td>Shelly D. Farnham, Ph.D.</td>\n",
       "      <td>Data Science</td>\n",
       "    </tr>\n",
       "    <tr>\n",
       "      <th>16</th>\n",
       "      <td>“You can best learn data mining and data scien...</td>\n",
       "      <td>Gregory Piatetsky-Shapiro</td>\n",
       "      <td>Data Science</td>\n",
       "    </tr>\n",
       "    <tr>\n",
       "      <th>17</th>\n",
       "      <td>“Learning how to do data science is like learn...</td>\n",
       "      <td>Claudia Perlich</td>\n",
       "      <td>Data Science</td>\n",
       "    </tr>\n",
       "    <tr>\n",
       "      <th>18</th>\n",
       "      <td>“Data science’s learning curve is formidable. ...</td>\n",
       "      <td>James Kobielus</td>\n",
       "      <td>Data Science</td>\n",
       "    </tr>\n",
       "    <tr>\n",
       "      <th>19</th>\n",
       "      <td>“In my view, success for data science professi...</td>\n",
       "      <td>Devavrat Shah</td>\n",
       "      <td>Data Science</td>\n",
       "    </tr>\n",
       "    <tr>\n",
       "      <th>20</th>\n",
       "      <td>“There is no bottleneck for data scientists… T...</td>\n",
       "      <td>Lutz Finger</td>\n",
       "      <td>Data Science</td>\n",
       "    </tr>\n",
       "    <tr>\n",
       "      <th>21</th>\n",
       "      <td>“Once you have a certain amount of math/stats ...</td>\n",
       "      <td>Stephan Kolassa</td>\n",
       "      <td>Data Science</td>\n",
       "    </tr>\n",
       "    <tr>\n",
       "      <th>22</th>\n",
       "      <td>“Being a data scientist is not only about data...</td>\n",
       "      <td>Jean-Paul Isson</td>\n",
       "      <td>Data Science</td>\n",
       "    </tr>\n",
       "    <tr>\n",
       "      <th>23</th>\n",
       "      <td>“Without a grounding in statistics, a Data Sci...</td>\n",
       "      <td>Martyn Jones</td>\n",
       "      <td>Data Science</td>\n",
       "    </tr>\n",
       "    <tr>\n",
       "      <th>24</th>\n",
       "      <td>“Having skills in statistics, math, and progra...</td>\n",
       "      <td>Bill Franks</td>\n",
       "      <td>Data Science</td>\n",
       "    </tr>\n",
       "    <tr>\n",
       "      <th>25</th>\n",
       "      <td>“Talented data scientists leverage data that e...</td>\n",
       "      <td>Vincent Granville</td>\n",
       "      <td>Data Science</td>\n",
       "    </tr>\n",
       "    <tr>\n",
       "      <th>26</th>\n",
       "      <td>“What makes a good scientist great is creativi...</td>\n",
       "      <td>Monica Rogati</td>\n",
       "      <td>Data Science</td>\n",
       "    </tr>\n",
       "    <tr>\n",
       "      <th>27</th>\n",
       "      <td>“Good data science is exactly the same [as] go...</td>\n",
       "      <td>Drew Conway</td>\n",
       "      <td>Data Science</td>\n",
       "    </tr>\n",
       "    <tr>\n",
       "      <th>28</th>\n",
       "      <td>“Critical thinking skills…really [set] apart t...</td>\n",
       "      <td>Jake Porway</td>\n",
       "      <td>Data Science</td>\n",
       "    </tr>\n",
       "    <tr>\n",
       "      <th>29</th>\n",
       "      <td>“How do we start to regulate the mathematical ...</td>\n",
       "      <td>Cathy O’Neil</td>\n",
       "      <td>Data Science</td>\n",
       "    </tr>\n",
       "    <tr>\n",
       "      <th>30</th>\n",
       "      <td>“With too little data, you won’t be able to ma...</td>\n",
       "      <td>Douglas Merrill</td>\n",
       "      <td>Data Science</td>\n",
       "    </tr>\n",
       "    <tr>\n",
       "      <th>31</th>\n",
       "      <td>“Data analysts who don’t organize their transf...</td>\n",
       "      <td>Mike Driscoll</td>\n",
       "      <td>Data Science</td>\n",
       "    </tr>\n",
       "    <tr>\n",
       "      <th>32</th>\n",
       "      <td>“Great data scientists never assume they know ...</td>\n",
       "      <td>KarolisUrbonas</td>\n",
       "      <td>Data Science</td>\n",
       "    </tr>\n",
       "    <tr>\n",
       "      <th>33</th>\n",
       "      <td>“For me, data science is a mix of three things...</td>\n",
       "      <td>Edwin Chen</td>\n",
       "      <td>Data Science</td>\n",
       "    </tr>\n",
       "    <tr>\n",
       "      <th>34</th>\n",
       "      <td>“The difference between a great [data scientis...</td>\n",
       "      <td>Thomas C. Redman, Ph.D.</td>\n",
       "      <td>Data Science</td>\n",
       "    </tr>\n",
       "    <tr>\n",
       "      <th>35</th>\n",
       "      <td>“The numbers have no way of speaking for thems...</td>\n",
       "      <td>Nate Silver</td>\n",
       "      <td>Data Science</td>\n",
       "    </tr>\n",
       "    <tr>\n",
       "      <th>36</th>\n",
       "      <td>“One of the big challenges of being a data sci...</td>\n",
       "      <td>Victor Hu</td>\n",
       "      <td>Data Science</td>\n",
       "    </tr>\n",
       "    <tr>\n",
       "      <th>37</th>\n",
       "      <td>“A data scientist must possess the knack of be...</td>\n",
       "      <td>Alexander Linden</td>\n",
       "      <td>Data Science</td>\n",
       "    </tr>\n",
       "    <tr>\n",
       "      <th>38</th>\n",
       "      <td>“People like simple explanations for complex p...</td>\n",
       "      <td>YanirSeroussi</td>\n",
       "      <td>Data Science</td>\n",
       "    </tr>\n",
       "    <tr>\n",
       "      <th>39</th>\n",
       "      <td>“You need to be able to take a dataset and dis...</td>\n",
       "      <td>Amy Heineike</td>\n",
       "      <td>Data Science</td>\n",
       "    </tr>\n",
       "    <tr>\n",
       "      <th>40</th>\n",
       "      <td>“We should expect a ‘Big Data 2.0’ phase to fo...</td>\n",
       "      <td>Foster Provost</td>\n",
       "      <td>Data Science</td>\n",
       "    </tr>\n",
       "    <tr>\n",
       "      <th>41</th>\n",
       "      <td>“As the field grows, keep an open mind and evo...</td>\n",
       "      <td>ShanjiXiong</td>\n",
       "      <td>Data Science</td>\n",
       "    </tr>\n",
       "  </tbody>\n",
       "</table>\n",
       "</div>"
      ],
      "text/plain": [
       "                                                quote  \\\n",
       "0   “By definition all scientists are data scienti...   \n",
       "1   “‘Possessed’ is probably the right word. I oft...   \n",
       "2   “I think of data science as more like a practi...   \n",
       "3   “As a data scientist, I can predict what is li...   \n",
       "4   “Data scientists are kind of like the new Rena...   \n",
       "5   “Data Scientist (n.): Person who is better at ...   \n",
       "6   “As data scientists, our job is to extract sig...   \n",
       "7   “The job of the data scientist is to ask the r...   \n",
       "8   “A data scientist does model-driven analyses o...   \n",
       "9   “[Data scientists are] able to think of ways t...   \n",
       "10  “What sort of personality makes for an effecti...   \n",
       "11  “There is a saying, ‘A jack of all trades and ...   \n",
       "12  “My number one piece of advice always is to fo...   \n",
       "13  “The No. 1 thing is you’ve got to have passion...   \n",
       "14  “Nobody ever talks about motivation in learnin...   \n",
       "15  “I do not know how you teach someone to love t...   \n",
       "16  “You can best learn data mining and data scien...   \n",
       "17  “Learning how to do data science is like learn...   \n",
       "18  “Data science’s learning curve is formidable. ...   \n",
       "19  “In my view, success for data science professi...   \n",
       "20  “There is no bottleneck for data scientists… T...   \n",
       "21  “Once you have a certain amount of math/stats ...   \n",
       "22  “Being a data scientist is not only about data...   \n",
       "23  “Without a grounding in statistics, a Data Sci...   \n",
       "24  “Having skills in statistics, math, and progra...   \n",
       "25  “Talented data scientists leverage data that e...   \n",
       "26  “What makes a good scientist great is creativi...   \n",
       "27  “Good data science is exactly the same [as] go...   \n",
       "28  “Critical thinking skills…really [set] apart t...   \n",
       "29  “How do we start to regulate the mathematical ...   \n",
       "30  “With too little data, you won’t be able to ma...   \n",
       "31  “Data analysts who don’t organize their transf...   \n",
       "32  “Great data scientists never assume they know ...   \n",
       "33  “For me, data science is a mix of three things...   \n",
       "34  “The difference between a great [data scientis...   \n",
       "35  “The numbers have no way of speaking for thems...   \n",
       "36  “One of the big challenges of being a data sci...   \n",
       "37  “A data scientist must possess the knack of be...   \n",
       "38  “People like simple explanations for complex p...   \n",
       "39  “You need to be able to take a dataset and dis...   \n",
       "40  “We should expect a ‘Big Data 2.0’ phase to fo...   \n",
       "41  “As the field grows, keep an open mind and evo...   \n",
       "\n",
       "                       author      category  \n",
       "0               Monica Rogati  Data Science  \n",
       "1               Jennifer Shin  Data Science  \n",
       "2                   Bob Hayes  Data Science  \n",
       "3               Bill Schmarzo  Data Science  \n",
       "4                John Foreman  Data Science  \n",
       "5                  Josh Wills  Data Science  \n",
       "6            Daniel Tunkelang  Data Science  \n",
       "7                Hilary Mason  Data Science  \n",
       "8                Chris Pehura  Data Science  \n",
       "9             Peter Skomoroch  Data Science  \n",
       "10               Carla Gentry  Data Science  \n",
       "11            Brendan Tierney  Data Science  \n",
       "12             Dr. Kirk Borne  Data Science  \n",
       "13                   DJ Patil  Data Science  \n",
       "14              Vik Paruchuri  Data Science  \n",
       "15   Shelly D. Farnham, Ph.D.  Data Science  \n",
       "16  Gregory Piatetsky-Shapiro  Data Science  \n",
       "17            Claudia Perlich  Data Science  \n",
       "18             James Kobielus  Data Science  \n",
       "19              Devavrat Shah  Data Science  \n",
       "20                Lutz Finger  Data Science  \n",
       "21            Stephan Kolassa  Data Science  \n",
       "22            Jean-Paul Isson  Data Science  \n",
       "23               Martyn Jones  Data Science  \n",
       "24                Bill Franks  Data Science  \n",
       "25          Vincent Granville  Data Science  \n",
       "26              Monica Rogati  Data Science  \n",
       "27                Drew Conway  Data Science  \n",
       "28                Jake Porway  Data Science  \n",
       "29               Cathy O’Neil  Data Science  \n",
       "30            Douglas Merrill  Data Science  \n",
       "31              Mike Driscoll  Data Science  \n",
       "32             KarolisUrbonas  Data Science  \n",
       "33                 Edwin Chen  Data Science  \n",
       "34    Thomas C. Redman, Ph.D.  Data Science  \n",
       "35                Nate Silver  Data Science  \n",
       "36                  Victor Hu  Data Science  \n",
       "37           Alexander Linden  Data Science  \n",
       "38              YanirSeroussi  Data Science  \n",
       "39               Amy Heineike  Data Science  \n",
       "40             Foster Provost  Data Science  \n",
       "41                ShanjiXiong  Data Science  "
      ]
     },
     "execution_count": 172,
     "metadata": {},
     "output_type": "execute_result"
    }
   ],
   "source": [
    "df_ds"
   ]
  },
  {
   "cell_type": "code",
   "execution_count": 190,
   "id": "609ab241-2e62-400c-a3f3-5ab821d6b65b",
   "metadata": {},
   "outputs": [
    {
     "name": "stdout",
     "output_type": "stream",
     "text": [
      "NEECHE IS ALL THE QOUTES\n",
      "NEECHE IS ALL THE AUTHORS\n"
     ]
    }
   ],
   "source": [
    "import os\n",
    "from bs4 import BeautifulSoup\n",
    "from selenium import webdriver\n",
    "import sys\n",
    "import json\n",
    "from selenium.webdriver.chrome.service import Service\n",
    "from webdriver_manager.chrome import ChromeDriverManager\n",
    "\n",
    "\n",
    "# In[2]:\n",
    "\n",
    "\n",
    "# chromedriver = os.path.expanduser(r\"C:\\Users\\Atharv\\Downloads\\chromedriver_win32\\chromedriver\")\n",
    "# print('chromedriver path: {}'.format(chromedriver))\n",
    "# sys.path.append(chromedriver)\n",
    "driver = webdriver.Chrome(service=Service(ChromeDriverManager().install()))\n",
    "\n",
    "\n",
    "# In[3]:\n",
    "\n",
    "l1 = []\n",
    "l2=[]\n",
    "\n",
    "quotes=[]\n",
    "authors=[]\n",
    "\n",
    "def get_house_links( driver):\n",
    "    house_links=[]\n",
    "    cities=['Mumbai']\n",
    "    for city in cities:\n",
    "        # for i in range(1,5):\n",
    "        driver.get(\"https://www.scuba.io/blog/48-analytics-quotes-experts\")\n",
    "        soup = BeautifulSoup(driver.page_source, 'html.parser')\n",
    "        get_data(soup)\n",
    "\n",
    "\n",
    "\n",
    "def get_data(soup):\n",
    "    prop_lst=[]\n",
    "    dic={}\n",
    "    #Flat Price\n",
    "    try:\n",
    "        # dic['IMP DATA']=soup.find(\"li\",{\"class\",\"mb-srp_card_price\"}).text\n",
    "        # dic['IMP DATA']=soup.find(\"li\").text\n",
    "        # print(\"li is \",soup.find(\"li\").text)\n",
    "\n",
    "        print(\"NEECHE IS ALL THE QOUTES\")\n",
    "\n",
    "        for something in soup.findAll(\"p\"):\n",
    "            # if(something.parent.name == \"ol\"):\n",
    "            quotes.append(something.text)\n",
    "                # print(\"\")\n",
    "            # else:\n",
    "                # print(\"not found\")\n",
    "\n",
    "        print(\"NEECHE IS ALL THE AUTHORS\")\n",
    "        for something in soup.findAll(\"a\"):\n",
    "            if(something.parent.name == \"h3\"):\n",
    "                authors.append(something.text.split(\",\")[0]) \n",
    "\n",
    "    except:\n",
    "        print(soup.find(\"li\").text)\n",
    "        dic['IMP DATA']=None\n",
    "        print(\"None\")\n",
    "\n",
    "    #Apartment Name\n",
    "    # try:\n",
    "    #     for j in soup.findAll(\"h2\",class_=\"mb-srp__card--title\"):\n",
    "    #         str1 = j.text\n",
    "    #         l2.append(str1.split(',')[1])\n",
    "    #     print(l2)\n",
    "    # except:\n",
    "    #     dic['Apartment']=None\n",
    "\n",
    "    #Flat Area\n",
    "    # try:\n",
    "    #     dic['Area']=soup.find(\"div\",{\"class\",\"mb-srp_card_summary--value\"}).text\n",
    "    # except:\n",
    "    #     dic['Area']=None\n",
    "\n",
    "    #Price of Flat per sqft\n",
    "    # try:\n",
    "    #     dic['Price per sqft']=soup.find(\"div\",{\"class\",\"mb-srp_card_area\"}).text\n",
    "    # except:\n",
    "    #     dic['Price per sqft']='Not Available'\n",
    "\n",
    "    #Type of furnishing\n",
    "    # for col_data in soup.find_all(\"div\",{\"class\":\"mb-srp_cardsummary js-collapse_content\"}):\n",
    "    #     for feat_title,feat_info in zip(col_data.find_all(\"div\",{\"class\":\"mb-srp_cardsummarytitle\"}),col_data.find_all(\"div\",{\"class\":\"mb-srpcardsummary_info\"})):\n",
    "    #         if \"furnishing\" in feat_title.text:\n",
    "    #             dic['Furnishing']=feat_info.text\n",
    "    #         if \"status\" in feat_title.text:\n",
    "    #             dic['Status']=feat_info.text\n",
    "    #Name Of Builder/Seller\n",
    "    # try:    \n",
    "    #     dic['Builder\\'s Name']=soup.find(\"div\",{\"class\",\"mb-srp_cardadvertiser_name\"}).text\n",
    "    # except:\n",
    "    #     dic['Builder\\'s Name']=None\n",
    "\n",
    "    # prop_lst.append(dic)\n",
    "    # print(prop_lst)\n",
    "\n",
    "    with open(\"data.json\",'r+') as f:\n",
    "        feeds = json.load(f)\n",
    "        for i in prop_lst:\n",
    "            feeds['property'].append(dic)\n",
    "        f.seek(0)\n",
    "        json.dump(feeds, f)\n",
    "\n",
    "\n",
    "# In[5]:\n",
    "\n",
    "\n",
    "v={\n",
    "    \"property\":[]\n",
    "}\n",
    "with open(\"data.json\", mode='w', encoding='utf-8') as f:\n",
    "    json.dump(v,f)\n",
    "\n",
    "\n",
    "# In[ ]:\n",
    "\n",
    "\n",
    "get_house_links(driver)\n",
    "\n",
    "\n",
    "# In[ ]"
   ]
  },
  {
   "cell_type": "code",
   "execution_count": 202,
   "id": "7431d8b4-41f0-4ae9-a3b9-112e624cfb69",
   "metadata": {},
   "outputs": [],
   "source": [
    "new_quotes=quotes[9:-12]"
   ]
  },
  {
   "cell_type": "code",
   "execution_count": 203,
   "id": "1133e0ea-d9f6-4b1e-9fee-9c370207bfd0",
   "metadata": {},
   "outputs": [
    {
     "data": {
      "text/plain": [
       "['“Different verticals need different terminal retention rates for them to have successful businesses. If you’re on e-commerce and you’re retaining on a monthly active basis, like 20 to 30% of your users, you’re going to do very well. If you’re on social media, and the first batch of people signing up to your product are not like, 80% retained, you’re not going to have a massive social media site. [...] What you need to do is have the tools to think, ‘who out there is comparable’ and how you can look at it and say, ‘am I anywhere close to what real success looks like in this vertical?’”\\xa0',\n",
       " '“Tracking marketing is a cultural thing. Either tracking matters or it doesn’t. You’re in one camp or the other. Either you’re analytical and data-driven, or you go by what you think works. People who go by gut are wrong.”',\n",
       " '“Time and money are your scarcest resources. You want to make sure you’re allocating them in the highest-impact areas. Data reveals impact, and with data, you can bring more science to your decisions.”',\n",
       " '“Have a vision for what you are trying to do. Use data to validate and help you navigate that vision, and map it down into small enough pieces where you can begin to execute in a data-informed way. Don’t let shallow analysis of data that happens to be cheap/easy/fast to collect nudge you off-course in your entrepreneurial pursuits.”',\n",
       " '“Execution is so critical. Sometimes you just need to try something, see what works and move forward.”',\n",
       " '“When we initially started testing email subject lines, we defined the success criteria as driving an email open. This seemed to be the most straightforward since the Pinner reads the email subject line and the next action is to either open it or don’t. What we found, however, was that defining success with metrics that were further downstream (i.e. clicking on the content in the email) was more effective.”',\n",
       " '“If there’s one takeaway it’s that it’s okay to do small wins. Small wins are good, they will compound. If you’re doing it right the end result will be massive.”',\n",
       " '“The most important thing we\\'ve done to improve our user onboarding was to define our activation metric and get serious about tracking the inputs to that metric. Agreeing on what a successfully \"activated\" account looked like, and understanding all the individual actions to get there, allowed us to take our new user onboarding to the next level. We formed a cross-functional team dedicated to increasing that metric. The team is able to clearly prioritize ideas and projects since we all agree what success looks like. That activation metric is paying huge dividends to our users and our company.”',\n",
       " '“There’s more objectivity in one customer sharing their passion and love for a product with another than there is in ads or promotion. It allows the company to spend less to achieve lasting growth.”',\n",
       " \"The people that understand how analytics shape a business best are the people that live and breathe building businesses: CEOs and founders. They've seen it all, they've built it with data, and we've got their best analytics quotes, right here.\",\n",
       " \"If you're looking for insight as to how you can better structure data within your business, or you're trying to dig into the hearts and minds of your customers, there's surely a nugget of wisdom out there for you.\",\n",
       " '“You can’t run a business today without data. But you also can’t let the numbers drive the car. No matter how big your company is or how far along you are, there’s an art to company-building that won’t fit in any spreadsheet.”',\n",
       " '“As you gain fresh insight from your data, it opens the door to new questions. As you have new questions, you need to update your instrumentation and analysis. Saying the process is “done” is saying you understand everything there is to know about your users, product, and channels.”',\n",
       " '“Analytics software is uniquely leveraged. Most software can optimize existing processes, but analytics (done right) should generate insights that bring to life whole new initiatives. It should change what you do, not just how you do it.”',\n",
       " '“If you pick the right metrics for success, you will be able to significantly improve the focus of the whole team and thus improve your business. Developing these metrics should be done first by making hypotheses about your business and validating / invalidating these hypotheses. From there you will have a good base understanding that will allow you to determine what metrics to focus on and how to define success for your business.”',\n",
       " '“The goal is to turn data into information, and information into insight.”',\n",
       " '“You want everyone to be able to look at the data and make sense out of it. It should be a value everyone has at your company, especially people interfacing directly with customers. There shouldn’t be any silos where engineers translate the data before handing it over to sales or customer service. That wastes precious time.”',\n",
       " '“We’ve tried to put passion and art and love and creativity ahead of revenue and valuation and buzz and traction, discovering that the latter can often follow the former.”',\n",
       " \"“Of course hard numbers tell an important story; user stats and sales numbers will always be key metrics. But every day, your users are sharing a huge amount of qualitative data, too — and a lot of companies either don't know how or forget to act on it.”\",\n",
       " '“We live in a time where data is all around us, and there’s a lot of great advice to show us how to make better use of data. However, I’ve found that in some cases this can be a huge waste of time, especially early on with your startup. Replace some of your current focus on quantitative data to qualitative data).”',\n",
       " \"“The single most important thing we've done for onboarding is planning past the first session. Let's say you have a SaaS application and know that new users who take actions X, Y, and Z end up being really successful.\",\n",
       " \"It's tempting to build a linear new user flow that encourages them to take these 3 actions then call it a day. But that's just not how humans evaluate software - most of them will hardly complete one of the three actions in their first session. [...]\",\n",
       " \"Planning past the first session matches your funnel to your buyer's decision making process. It means aligning your in-product experiences, email campaigns and sales/customer success outreach to reinforce the user's success path.”\",\n",
       " '“The problem with Silicon Valley is when you build an app you are expected to make the app go viral and reach millions of people. This is the worst way to think about it — it’s much better to get 100 people to love you. There was no way we could get 1M people on Airbnb, but we could get 100 people to love us. This is when we decided to do things that wouldn’t scale. Getting 100 people to love you is hard — getting people to like you is much easier than getting people to love you.”',\n",
       " '“I learned a lesson from watching other companies who held onto things too long. If you look at the history of companies that have succeeded and the ones that have failed, there’s a pretty clear pattern that the ones that have succeeded typically morph every couple of years into something new. And that change is fairly uncomfortable.”',\n",
       " '“[For early-stage startups,] data is never there when you need it most. At best, data can help you make very small, incremental decisions. But if you’re a startup, you’re focused on big, broad swings — and data has no place in that. You don’t have enough users to draw any meaningful conclusions, and even if you did those users aren’t necessarily representative of your long term target audience. You’ve got data, sure. But not enough to make a genuine, data-driven decision, and pretending otherwise is a recipe for disaster.”',\n",
       " '“Use analytics to make decisions. I always thought you needed a clear answer before you made a decision and the thing that he taught me was [that] you’ve got to use analytics directionally…and never worry whether they are 100% sure. Just try to get them to point you in the right direction.”',\n",
       " '“Your metrics influence each other. You need to monitor how. Don’t just measure which clicks generate orders. Back it up and break it down. Follow users from their very first point of contact with you to their behavior on your site and the actual transaction. You have to make the linkage all the way through.”',\n",
       " \"Venture capitalists have a unique perspective on business and analytics, because they evaluate from an outside perspective. Often becoming a VC after years of experience in business, investing, banking, or founding, a VC's future professional success depends on their ability to determine what will sink and what will swim.\",\n",
       " \"Churn, metrics, growth, and conversions are just some of the things that we've got “on the record” from VCs.\",\n",
       " \"“Merely measuring something has an uncanny tendency to improve it. If you want to make your user numbers go up, put a big piece of paper on your wall and everyday plot the number of users. You'll be delighted when it goes up and disappointed when it goes down. Pretty soon you'll start noticing what makes the number go up, and you'll start to do more of that. Corollary: be careful what you measure.”\",\n",
       " '“Your users are your guidepost. And the way you stay on the right path in the early stages of a startup is to build stuff and talk to users. And nothing else.”',\n",
       " '“For predictive analytics, we need an infrastructure that’s much more responsive to human-scale interactivity: What’s happening today that may influence what happens tomorrow? A lot of iteration needs to occur on a continual basis for the system to get smart, for the machine to “learn” — explore the data, visualize it, build a model, ask a question, an answer comes back, bring in other data, and repeat the process. The more real-time and granular we can get, the more responsive, and more competitive, we can be.”',\n",
       " \"“You must constantly try to disrupt yourself. The most successful companies embrace cannibalization at the core. [...]You need to innovate and be willing to threaten the core of your business in order to survive. Or you'll die!”\",\n",
       " '“I often see teams that maniacally focus on their metrics around customer acquisition and retention. This usually works well for customer acquisition, but not so well for retention. Why? For many products, metrics often describe the customer acquisition goal in enough detail to provide sufficient management guidance. In contrast, the metrics for customer retention do not provide enough color to be a complete management tool. As a result, many young companies overemphasize retention metrics and do not spend enough time going deep enough on the actual user experience. This generally results in a frantic numbers chase that does not end in a great product.”',\n",
       " '“Don’t obsess over these sub metrics, but obsess over the key metrics that tie into your revenue growth. Everything can be measured, including engineering, PR, product and marketing. If you have your engineering team agree to measure the output of features quarter over quarter, you will get more features built. It’s just a fact. You have to measure every functional area. Measure them all and have everyone agree to the same growth goals to support your revenue, and magical things will happen.”',\n",
       " '“If an Internet company could obsess about only one metric, it should be conversion. No other metric so holistically captures as many critical aspects of a web site – user design, usability, performance, convenience, ad effectiveness, net promoter score, customer satisfaction – all in a single measurement. Yet despite the remarkable power of this metric, it is alarming how few companies today truly understand conversion and how to optimize it. As such, it is time to pound the table again – conversion is by far the most powerful Internet metric of all.”',\n",
       " 'Thought leaders, especially in the tech world, are focused on the possibilities in front of us and push everyone to get smarter, faster, and stronger. From world-class writers and researchers to data scientists that pioneer our methodological approaches, the analytics quotes from this group pretty much covers all the bases.',\n",
       " '“You don’t need to learn what customers say they want; you need to learn how customers behave and what they need. In other words, focus on their problem, not their suggested solution.”',\n",
       " '“Data isn’t useful without the product context. Conversely, having only product context is not very useful without objective metrics...”',\n",
       " '“Errors using inadequate data are much less than those using no data at all.”',\n",
       " '“When you are dealing with a torrent of data, being able to construct different levels of aggregation is really important, because you want to make sure you’ve used your software intelligently with respect to that large amount of data, and bring to bear the contextual data you need to answer the question at the level of aggregation that you need to answer it.”',\n",
       " \"“If statistics are boring, you've got the wrong numbers”\",\n",
       " '“Data are just summaries of thousands of stories – tell a few of those stories to help make the data meaningful.”',\n",
       " '“[A data-first strategy] is the quest to implement systems (usually massive) to collect data of all shapes and manners before all else. [...]It is being hyper-conservative when it comes to creativity and experimentation because of quant-issues. It is represented by 90% of the data budget invested in Agencies and Consultants driving implementation and re-implementation and hyper-customization of the code. It is represented by the act of creating crazy data thresholds for any initiative to get off the ground. [...]\\xa0 Data is important. I believe it can help drive your business strategy smartly. But, a data-first strategy, defined as above, is nuts. It will only slow down your progress and allow your competitors to crush you like a bug (even if you are a top player in your market today!).”“You can have data without information, but you cannot have information without data.”',\n",
       " '“A screen full of analytics data looks like a secret code, and in a way it is. That data has a lot of information in it, and it’s impossible to make sense of it without the key. Put another way, data can give answers, but only if you ask the right questions.\"',\n",
       " '“The key is to let computers do what they are good at, which is trawling these massive data sets for something that is mathematically odd, and that makes it easier for humans to do what they are good at — explain those anomalies.”',\n",
       " '“Data is a precious thing and will last longer than the systems themselves.”',\n",
       " '\"One metric alone doesn’t tell you what’s happening with your site; as ever Analytics is about taking your data and outside influences (i.e. time of year) and building insights from all of it.”',\n",
       " '“In a marketing analytics worldview, companies must have an accounting of and insight into all of their marketing programs in all of their channels, including web/browser, mobile apps, TV/video, social, paid media, field, print, outdoor and others. If your organization is still stuck in the web analytics mindset, it is time to reinvent your analytics practice, leveraging all of the available marketing analytics tools to make faster and better decisions and drive your business.”',\n",
       " '“For every $20 you spend on web analytics tools, you should spend $80 on the brains to make sense of the data.”',\n",
       " 'Product is at the heart of analytics, but it can also be the source of great frustration. How do we understand our product with numbers, experiences, aggregate data? Nobody can answer this question perfectly, but these experts can give you a huge running start.',\n",
       " '“As a publicly-traded company you have to do a lot of long-term planning with respect to revenue. You have to become more predictable for investors. And revenue is tied to products that have to ship to meet projections.”',\n",
       " '“Data and A/B test are valuable allies, and they help us understand and grow and optimize, but they’re not a replacement for clear-headed, strong decision-making. Don’t become dependent on their allure. Sometimes, a little instinct goes a long way.”',\n",
       " '\"About 10 years ago, a video went viral on YouTube showing a toddler holding a paper magazine and trying to use it like an iPad, swiping and pinching to zoom, and it didn’t work so she just looked at it thinking, ‘It must be broken.\\' It was obvious evidence of a new generation of digital natives. Today we’re witnessing a new revolution of data natives who expect their world to be ‘smart’ and seamlessly adapt to what they want.',\n",
       " 'A data native is someone who expects their world to not just be digital, but to be smart and to adjust immediately to their taste and habits. For example, a magazine should not only be digital and interactive — it should be personalized. It should tell you what you need to know based on your interests, location, preferences. The expectations have shifted.',\n",
       " '[...] Without big data analytics, companies are blind and deaf, wandering out onto the Web like deer on a freeway.”',\n",
       " '“The only thing that matters is getting to product/market fit. Product/market fit means being in a good market with a product that can satisfy that market. You can always feel when product/market fit isn’t happening. The customers aren’t quite getting value out of the product, word of mouth isn’t spreading, usage isn’t growing that fast, press reviews are kind of “blah”, the sales cycle takes too long, and lots of deals never close. And you can always feel product/market fit when it’s happening. The customers are buying the product just as fast as you can make it— or usage is growing just as fast as you can add more servers.”',\n",
       " '“A big theme that I keep coming back to is, where is the love? It’s basically just finding out which users are passionate about the product. What is the use case on the product that those people have? Why do they actually love the product? And that gives you a good core of information to guide every part of your business. So messaging, you want to reflect that, but also, now that you know that, you want to make sure that you can really get a lot more people to that particular type of use case and that particular type of gratifying experience. So understanding user gratification is really critical in all of it.”',\n",
       " '“In my time as a product manager, I was constantly reminding myself to talk to customers more. It might have been to talk about existing features, something under development, or customer pain and processes for product research. It was easy in the beginning, because we knew most of the people using the tool as we worked on the initial version. Even as we got bigger, my feelings usually boiled down to these four words: talk to customers more. I think a critical skill, however, is learning how to talk to the right customers.”']"
      ]
     },
     "execution_count": 203,
     "metadata": {},
     "output_type": "execute_result"
    }
   ],
   "source": [
    "new_quotes"
   ]
  },
  {
   "cell_type": "code",
   "execution_count": 204,
   "id": "2236590f-69ca-40b9-9c30-c58b93605c9f",
   "metadata": {},
   "outputs": [
    {
     "data": {
      "text/plain": [
       "\"The people that understand how analytics shape a business best are the people that live and breathe building businesses: CEOs and founders. They've seen it all, they've built it with data, and we've got their best analytics quotes, right here.\""
      ]
     },
     "execution_count": 204,
     "metadata": {},
     "output_type": "execute_result"
    }
   ],
   "source": [
    "new_quotes.pop(9)"
   ]
  },
  {
   "cell_type": "code",
   "execution_count": 207,
   "id": "aa3bea0b-e8d9-4ce7-8b14-659f04dde6a0",
   "metadata": {},
   "outputs": [
    {
     "data": {
      "text/plain": [
       "\"If you're looking for insight as to how you can better structure data within your business, or you're trying to dig into the hearts and minds of your customers, there's surely a nugget of wisdom out there for you.\""
      ]
     },
     "execution_count": 207,
     "metadata": {},
     "output_type": "execute_result"
    }
   ],
   "source": [
    "new_quotes.pop(9)"
   ]
  },
  {
   "cell_type": "code",
   "execution_count": 208,
   "id": "8e56c976-95a0-4336-a793-7cfd9ac1c05c",
   "metadata": {},
   "outputs": [
    {
     "data": {
      "text/plain": [
       "'“You can’t run a business today without data. But you also can’t let the numbers drive the car. No matter how big your company is or how far along you are, there’s an art to company-building that won’t fit in any spreadsheet.”'"
      ]
     },
     "execution_count": 208,
     "metadata": {},
     "output_type": "execute_result"
    }
   ],
   "source": [
    "new_quotes[9]"
   ]
  },
  {
   "cell_type": "code",
   "execution_count": 212,
   "id": "bd5b18fc-7c46-4097-85ef-990d57897790",
   "metadata": {},
   "outputs": [
    {
     "data": {
      "text/plain": [
       "\"Venture capitalists have a unique perspective on business and analytics, because they evaluate from an outside perspective. Often becoming a VC after years of experience in business, investing, banking, or founding, a VC's future professional success depends on their ability to determine what will sink and what will swim.\""
      ]
     },
     "execution_count": 212,
     "metadata": {},
     "output_type": "execute_result"
    }
   ],
   "source": [
    "new_quotes[26]"
   ]
  },
  {
   "cell_type": "code",
   "execution_count": 213,
   "id": "db7776b3-8754-4af7-ad95-ee151e00fd98",
   "metadata": {},
   "outputs": [
    {
     "data": {
      "text/plain": [
       "\"Venture capitalists have a unique perspective on business and analytics, because they evaluate from an outside perspective. Often becoming a VC after years of experience in business, investing, banking, or founding, a VC's future professional success depends on their ability to determine what will sink and what will swim.\""
      ]
     },
     "execution_count": 213,
     "metadata": {},
     "output_type": "execute_result"
    }
   ],
   "source": [
    "new_quotes.pop(26)"
   ]
  },
  {
   "cell_type": "code",
   "execution_count": 214,
   "id": "ce78f056-09ab-4989-8ddc-35139ccd2c4d",
   "metadata": {},
   "outputs": [
    {
     "data": {
      "text/plain": [
       "\"Churn, metrics, growth, and conversions are just some of the things that we've got “on the record” from VCs.\""
      ]
     },
     "execution_count": 214,
     "metadata": {},
     "output_type": "execute_result"
    }
   ],
   "source": [
    "new_quotes.pop(26)"
   ]
  },
  {
   "cell_type": "code",
   "execution_count": 216,
   "id": "c6b047a6-3ed2-4e04-86b1-c485221bdbce",
   "metadata": {},
   "outputs": [
    {
     "data": {
      "text/plain": [
       "'Thought leaders, especially in the tech world, are focused on the possibilities in front of us and push everyone to get smarter, faster, and stronger. From world-class writers and researchers to data scientists that pioneer our methodological approaches, the analytics quotes from this group pretty much covers all the bases.'"
      ]
     },
     "execution_count": 216,
     "metadata": {},
     "output_type": "execute_result"
    }
   ],
   "source": [
    "new_quotes[33]"
   ]
  },
  {
   "cell_type": "code",
   "execution_count": 217,
   "id": "7e6ddd79-55c1-48ed-b9a4-f5363ed1166a",
   "metadata": {},
   "outputs": [
    {
     "data": {
      "text/plain": [
       "'Thought leaders, especially in the tech world, are focused on the possibilities in front of us and push everyone to get smarter, faster, and stronger. From world-class writers and researchers to data scientists that pioneer our methodological approaches, the analytics quotes from this group pretty much covers all the bases.'"
      ]
     },
     "execution_count": 217,
     "metadata": {},
     "output_type": "execute_result"
    }
   ],
   "source": [
    "new_quotes.pop(33)"
   ]
  },
  {
   "cell_type": "code",
   "execution_count": 218,
   "id": "2dde715f-edc2-400a-81a6-693508501f00",
   "metadata": {},
   "outputs": [
    {
     "data": {
      "text/plain": [
       "'“You don’t need to learn what customers say they want; you need to learn how customers behave and what they need. In other words, focus on their problem, not their suggested solution.”'"
      ]
     },
     "execution_count": 218,
     "metadata": {},
     "output_type": "execute_result"
    }
   ],
   "source": [
    "new_quotes[33]"
   ]
  },
  {
   "cell_type": "code",
   "execution_count": 219,
   "id": "4030568b-8515-4ca0-b8fb-a9d97998ce2b",
   "metadata": {},
   "outputs": [
    {
     "data": {
      "text/plain": [
       "'Product is at the heart of analytics, but it can also be the source of great frustration. How do we understand our product with numbers, experiences, aggregate data? Nobody can answer this question perfectly, but these experts can give you a huge running start.'"
      ]
     },
     "execution_count": 219,
     "metadata": {},
     "output_type": "execute_result"
    }
   ],
   "source": [
    "new_quotes[46]"
   ]
  },
  {
   "cell_type": "code",
   "execution_count": 220,
   "id": "c7348a75-824a-4500-8c33-f0f7655e7e6a",
   "metadata": {},
   "outputs": [
    {
     "data": {
      "text/plain": [
       "'Product is at the heart of analytics, but it can also be the source of great frustration. How do we understand our product with numbers, experiences, aggregate data? Nobody can answer this question perfectly, but these experts can give you a huge running start.'"
      ]
     },
     "execution_count": 220,
     "metadata": {},
     "output_type": "execute_result"
    }
   ],
   "source": [
    "new_quotes.pop(46)"
   ]
  },
  {
   "cell_type": "code",
   "execution_count": 222,
   "id": "23151270-b68a-4386-a528-cf82b252c14f",
   "metadata": {},
   "outputs": [
    {
     "data": {
      "text/plain": [
       "'“As a publicly-traded company you have to do a lot of long-term planning with respect to revenue. You have to become more predictable for investors. And revenue is tied to products that have to ship to meet projections.”'"
      ]
     },
     "execution_count": 222,
     "metadata": {},
     "output_type": "execute_result"
    }
   ],
   "source": [
    "new_quotes[46]"
   ]
  },
  {
   "cell_type": "code",
   "execution_count": 223,
   "id": "91eee872-eee3-4b53-918d-396fe24518a7",
   "metadata": {},
   "outputs": [
    {
     "data": {
      "text/plain": [
       "54"
      ]
     },
     "execution_count": 223,
     "metadata": {},
     "output_type": "execute_result"
    }
   ],
   "source": [
    "len(new_quotes)"
   ]
  },
  {
   "cell_type": "code",
   "execution_count": 224,
   "id": "1a872c8b-aa38-434c-a8e4-c95d7f957c11",
   "metadata": {},
   "outputs": [
    {
     "data": {
      "text/plain": [
       "['“Different verticals need different terminal retention rates for them to have successful businesses. If you’re on e-commerce and you’re retaining on a monthly active basis, like 20 to 30% of your users, you’re going to do very well. If you’re on social media, and the first batch of people signing up to your product are not like, 80% retained, you’re not going to have a massive social media site. [...] What you need to do is have the tools to think, ‘who out there is comparable’ and how you can look at it and say, ‘am I anywhere close to what real success looks like in this vertical?’”\\xa0',\n",
       " '“Tracking marketing is a cultural thing. Either tracking matters or it doesn’t. You’re in one camp or the other. Either you’re analytical and data-driven, or you go by what you think works. People who go by gut are wrong.”',\n",
       " '“Time and money are your scarcest resources. You want to make sure you’re allocating them in the highest-impact areas. Data reveals impact, and with data, you can bring more science to your decisions.”',\n",
       " '“Have a vision for what you are trying to do. Use data to validate and help you navigate that vision, and map it down into small enough pieces where you can begin to execute in a data-informed way. Don’t let shallow analysis of data that happens to be cheap/easy/fast to collect nudge you off-course in your entrepreneurial pursuits.”',\n",
       " '“Execution is so critical. Sometimes you just need to try something, see what works and move forward.”',\n",
       " '“When we initially started testing email subject lines, we defined the success criteria as driving an email open. This seemed to be the most straightforward since the Pinner reads the email subject line and the next action is to either open it or don’t. What we found, however, was that defining success with metrics that were further downstream (i.e. clicking on the content in the email) was more effective.”',\n",
       " '“If there’s one takeaway it’s that it’s okay to do small wins. Small wins are good, they will compound. If you’re doing it right the end result will be massive.”',\n",
       " '“The most important thing we\\'ve done to improve our user onboarding was to define our activation metric and get serious about tracking the inputs to that metric. Agreeing on what a successfully \"activated\" account looked like, and understanding all the individual actions to get there, allowed us to take our new user onboarding to the next level. We formed a cross-functional team dedicated to increasing that metric. The team is able to clearly prioritize ideas and projects since we all agree what success looks like. That activation metric is paying huge dividends to our users and our company.”',\n",
       " '“There’s more objectivity in one customer sharing their passion and love for a product with another than there is in ads or promotion. It allows the company to spend less to achieve lasting growth.”',\n",
       " '“You can’t run a business today without data. But you also can’t let the numbers drive the car. No matter how big your company is or how far along you are, there’s an art to company-building that won’t fit in any spreadsheet.”',\n",
       " '“As you gain fresh insight from your data, it opens the door to new questions. As you have new questions, you need to update your instrumentation and analysis. Saying the process is “done” is saying you understand everything there is to know about your users, product, and channels.”',\n",
       " '“Analytics software is uniquely leveraged. Most software can optimize existing processes, but analytics (done right) should generate insights that bring to life whole new initiatives. It should change what you do, not just how you do it.”',\n",
       " '“If you pick the right metrics for success, you will be able to significantly improve the focus of the whole team and thus improve your business. Developing these metrics should be done first by making hypotheses about your business and validating / invalidating these hypotheses. From there you will have a good base understanding that will allow you to determine what metrics to focus on and how to define success for your business.”',\n",
       " '“The goal is to turn data into information, and information into insight.”',\n",
       " '“You want everyone to be able to look at the data and make sense out of it. It should be a value everyone has at your company, especially people interfacing directly with customers. There shouldn’t be any silos where engineers translate the data before handing it over to sales or customer service. That wastes precious time.”',\n",
       " '“We’ve tried to put passion and art and love and creativity ahead of revenue and valuation and buzz and traction, discovering that the latter can often follow the former.”',\n",
       " \"“Of course hard numbers tell an important story; user stats and sales numbers will always be key metrics. But every day, your users are sharing a huge amount of qualitative data, too — and a lot of companies either don't know how or forget to act on it.”\",\n",
       " '“We live in a time where data is all around us, and there’s a lot of great advice to show us how to make better use of data. However, I’ve found that in some cases this can be a huge waste of time, especially early on with your startup. Replace some of your current focus on quantitative data to qualitative data).”',\n",
       " \"“The single most important thing we've done for onboarding is planning past the first session. Let's say you have a SaaS application and know that new users who take actions X, Y, and Z end up being really successful.\",\n",
       " \"It's tempting to build a linear new user flow that encourages them to take these 3 actions then call it a day. But that's just not how humans evaluate software - most of them will hardly complete one of the three actions in their first session. [...]\",\n",
       " \"Planning past the first session matches your funnel to your buyer's decision making process. It means aligning your in-product experiences, email campaigns and sales/customer success outreach to reinforce the user's success path.”\",\n",
       " '“The problem with Silicon Valley is when you build an app you are expected to make the app go viral and reach millions of people. This is the worst way to think about it — it’s much better to get 100 people to love you. There was no way we could get 1M people on Airbnb, but we could get 100 people to love us. This is when we decided to do things that wouldn’t scale. Getting 100 people to love you is hard — getting people to like you is much easier than getting people to love you.”',\n",
       " '“I learned a lesson from watching other companies who held onto things too long. If you look at the history of companies that have succeeded and the ones that have failed, there’s a pretty clear pattern that the ones that have succeeded typically morph every couple of years into something new. And that change is fairly uncomfortable.”',\n",
       " '“[For early-stage startups,] data is never there when you need it most. At best, data can help you make very small, incremental decisions. But if you’re a startup, you’re focused on big, broad swings — and data has no place in that. You don’t have enough users to draw any meaningful conclusions, and even if you did those users aren’t necessarily representative of your long term target audience. You’ve got data, sure. But not enough to make a genuine, data-driven decision, and pretending otherwise is a recipe for disaster.”',\n",
       " '“Use analytics to make decisions. I always thought you needed a clear answer before you made a decision and the thing that he taught me was [that] you’ve got to use analytics directionally…and never worry whether they are 100% sure. Just try to get them to point you in the right direction.”',\n",
       " '“Your metrics influence each other. You need to monitor how. Don’t just measure which clicks generate orders. Back it up and break it down. Follow users from their very first point of contact with you to their behavior on your site and the actual transaction. You have to make the linkage all the way through.”',\n",
       " \"“Merely measuring something has an uncanny tendency to improve it. If you want to make your user numbers go up, put a big piece of paper on your wall and everyday plot the number of users. You'll be delighted when it goes up and disappointed when it goes down. Pretty soon you'll start noticing what makes the number go up, and you'll start to do more of that. Corollary: be careful what you measure.”\",\n",
       " '“Your users are your guidepost. And the way you stay on the right path in the early stages of a startup is to build stuff and talk to users. And nothing else.”',\n",
       " '“For predictive analytics, we need an infrastructure that’s much more responsive to human-scale interactivity: What’s happening today that may influence what happens tomorrow? A lot of iteration needs to occur on a continual basis for the system to get smart, for the machine to “learn” — explore the data, visualize it, build a model, ask a question, an answer comes back, bring in other data, and repeat the process. The more real-time and granular we can get, the more responsive, and more competitive, we can be.”',\n",
       " \"“You must constantly try to disrupt yourself. The most successful companies embrace cannibalization at the core. [...]You need to innovate and be willing to threaten the core of your business in order to survive. Or you'll die!”\",\n",
       " '“I often see teams that maniacally focus on their metrics around customer acquisition and retention. This usually works well for customer acquisition, but not so well for retention. Why? For many products, metrics often describe the customer acquisition goal in enough detail to provide sufficient management guidance. In contrast, the metrics for customer retention do not provide enough color to be a complete management tool. As a result, many young companies overemphasize retention metrics and do not spend enough time going deep enough on the actual user experience. This generally results in a frantic numbers chase that does not end in a great product.”',\n",
       " '“Don’t obsess over these sub metrics, but obsess over the key metrics that tie into your revenue growth. Everything can be measured, including engineering, PR, product and marketing. If you have your engineering team agree to measure the output of features quarter over quarter, you will get more features built. It’s just a fact. You have to measure every functional area. Measure them all and have everyone agree to the same growth goals to support your revenue, and magical things will happen.”',\n",
       " '“If an Internet company could obsess about only one metric, it should be conversion. No other metric so holistically captures as many critical aspects of a web site – user design, usability, performance, convenience, ad effectiveness, net promoter score, customer satisfaction – all in a single measurement. Yet despite the remarkable power of this metric, it is alarming how few companies today truly understand conversion and how to optimize it. As such, it is time to pound the table again – conversion is by far the most powerful Internet metric of all.”',\n",
       " '“You don’t need to learn what customers say they want; you need to learn how customers behave and what they need. In other words, focus on their problem, not their suggested solution.”',\n",
       " '“Data isn’t useful without the product context. Conversely, having only product context is not very useful without objective metrics...”',\n",
       " '“Errors using inadequate data are much less than those using no data at all.”',\n",
       " '“When you are dealing with a torrent of data, being able to construct different levels of aggregation is really important, because you want to make sure you’ve used your software intelligently with respect to that large amount of data, and bring to bear the contextual data you need to answer the question at the level of aggregation that you need to answer it.”',\n",
       " \"“If statistics are boring, you've got the wrong numbers”\",\n",
       " '“Data are just summaries of thousands of stories – tell a few of those stories to help make the data meaningful.”',\n",
       " '“[A data-first strategy] is the quest to implement systems (usually massive) to collect data of all shapes and manners before all else. [...]It is being hyper-conservative when it comes to creativity and experimentation because of quant-issues. It is represented by 90% of the data budget invested in Agencies and Consultants driving implementation and re-implementation and hyper-customization of the code. It is represented by the act of creating crazy data thresholds for any initiative to get off the ground. [...]\\xa0 Data is important. I believe it can help drive your business strategy smartly. But, a data-first strategy, defined as above, is nuts. It will only slow down your progress and allow your competitors to crush you like a bug (even if you are a top player in your market today!).”“You can have data without information, but you cannot have information without data.”',\n",
       " '“A screen full of analytics data looks like a secret code, and in a way it is. That data has a lot of information in it, and it’s impossible to make sense of it without the key. Put another way, data can give answers, but only if you ask the right questions.\"',\n",
       " '“The key is to let computers do what they are good at, which is trawling these massive data sets for something that is mathematically odd, and that makes it easier for humans to do what they are good at — explain those anomalies.”',\n",
       " '“Data is a precious thing and will last longer than the systems themselves.”',\n",
       " '\"One metric alone doesn’t tell you what’s happening with your site; as ever Analytics is about taking your data and outside influences (i.e. time of year) and building insights from all of it.”',\n",
       " '“In a marketing analytics worldview, companies must have an accounting of and insight into all of their marketing programs in all of their channels, including web/browser, mobile apps, TV/video, social, paid media, field, print, outdoor and others. If your organization is still stuck in the web analytics mindset, it is time to reinvent your analytics practice, leveraging all of the available marketing analytics tools to make faster and better decisions and drive your business.”',\n",
       " '“For every $20 you spend on web analytics tools, you should spend $80 on the brains to make sense of the data.”',\n",
       " '“As a publicly-traded company you have to do a lot of long-term planning with respect to revenue. You have to become more predictable for investors. And revenue is tied to products that have to ship to meet projections.”',\n",
       " '“Data and A/B test are valuable allies, and they help us understand and grow and optimize, but they’re not a replacement for clear-headed, strong decision-making. Don’t become dependent on their allure. Sometimes, a little instinct goes a long way.”',\n",
       " '\"About 10 years ago, a video went viral on YouTube showing a toddler holding a paper magazine and trying to use it like an iPad, swiping and pinching to zoom, and it didn’t work so she just looked at it thinking, ‘It must be broken.\\' It was obvious evidence of a new generation of digital natives. Today we’re witnessing a new revolution of data natives who expect their world to be ‘smart’ and seamlessly adapt to what they want.',\n",
       " 'A data native is someone who expects their world to not just be digital, but to be smart and to adjust immediately to their taste and habits. For example, a magazine should not only be digital and interactive — it should be personalized. It should tell you what you need to know based on your interests, location, preferences. The expectations have shifted.',\n",
       " '[...] Without big data analytics, companies are blind and deaf, wandering out onto the Web like deer on a freeway.”',\n",
       " '“The only thing that matters is getting to product/market fit. Product/market fit means being in a good market with a product that can satisfy that market. You can always feel when product/market fit isn’t happening. The customers aren’t quite getting value out of the product, word of mouth isn’t spreading, usage isn’t growing that fast, press reviews are kind of “blah”, the sales cycle takes too long, and lots of deals never close. And you can always feel product/market fit when it’s happening. The customers are buying the product just as fast as you can make it— or usage is growing just as fast as you can add more servers.”',\n",
       " '“A big theme that I keep coming back to is, where is the love? It’s basically just finding out which users are passionate about the product. What is the use case on the product that those people have? Why do they actually love the product? And that gives you a good core of information to guide every part of your business. So messaging, you want to reflect that, but also, now that you know that, you want to make sure that you can really get a lot more people to that particular type of use case and that particular type of gratifying experience. So understanding user gratification is really critical in all of it.”',\n",
       " '“In my time as a product manager, I was constantly reminding myself to talk to customers more. It might have been to talk about existing features, something under development, or customer pain and processes for product research. It was easy in the beginning, because we knew most of the people using the tool as we worked on the initial version. Even as we got bigger, my feelings usually boiled down to these four words: talk to customers more. I think a critical skill, however, is learning how to talk to the right customers.”']"
      ]
     },
     "execution_count": 224,
     "metadata": {},
     "output_type": "execute_result"
    }
   ],
   "source": [
    "new_quotes"
   ]
  },
  {
   "cell_type": "code",
   "execution_count": 226,
   "id": "28f53ae9-4a37-4685-95a2-2ecbac8dfad8",
   "metadata": {},
   "outputs": [
    {
     "data": {
      "text/plain": [
       "\"“The single most important thing we've done for onboarding is planning past the first session. Let's say you have a SaaS application and know that new users who take actions X, Y, and Z end up being really successful.\""
      ]
     },
     "execution_count": 226,
     "metadata": {},
     "output_type": "execute_result"
    }
   ],
   "source": [
    "new_quotes[18]"
   ]
  },
  {
   "cell_type": "code",
   "execution_count": 227,
   "id": "85f1aadc-2995-4496-9517-9c8e786e0537",
   "metadata": {},
   "outputs": [
    {
     "data": {
      "text/plain": [
       "\"Planning past the first session matches your funnel to your buyer's decision making process. It means aligning your in-product experiences, email campaigns and sales/customer success outreach to reinforce the user's success path.”\""
      ]
     },
     "execution_count": 227,
     "metadata": {},
     "output_type": "execute_result"
    }
   ],
   "source": [
    "new_quotes[20]"
   ]
  },
  {
   "cell_type": "code",
   "execution_count": 233,
   "id": "c4d1c7d6-d92d-4e72-959e-ee4ebbce87d1",
   "metadata": {},
   "outputs": [],
   "source": [
    "new_quotes[18 : 21] = [''.join(new_quotes[18 : 21])]"
   ]
  },
  {
   "cell_type": "code",
   "execution_count": 234,
   "id": "302465db-98c5-49c7-9e8e-84e2c24ab4f2",
   "metadata": {},
   "outputs": [
    {
     "data": {
      "text/plain": [
       "52"
      ]
     },
     "execution_count": 234,
     "metadata": {},
     "output_type": "execute_result"
    }
   ],
   "source": [
    "len(new_quotes)"
   ]
  },
  {
   "cell_type": "code",
   "execution_count": 242,
   "id": "2db36ec4-7d7b-4292-bf8f-92ea5e5e0ef5",
   "metadata": {},
   "outputs": [],
   "source": [
    "new_quotes[46 : 49] = [''.join(new_quotes[46 : 49])]"
   ]
  },
  {
   "cell_type": "code",
   "execution_count": 243,
   "id": "506e117e-b529-4dd2-b306-97702024d1d9",
   "metadata": {},
   "outputs": [
    {
     "data": {
      "text/plain": [
       "50"
      ]
     },
     "execution_count": 243,
     "metadata": {},
     "output_type": "execute_result"
    }
   ],
   "source": [
    "len(new_quotes)"
   ]
  },
  {
   "cell_type": "code",
   "execution_count": 180,
   "id": "5079f633-8f76-4324-8875-aedbc9006e8b",
   "metadata": {},
   "outputs": [
    {
     "data": {
      "text/plain": [
       "['Alex Shultz',\n",
       " 'Stuart McDonald',\n",
       " 'Matt Trifiro',\n",
       " 'Andrew Chen',\n",
       " 'Meenal Balar',\n",
       " 'John Egan',\n",
       " 'Kevin Li',\n",
       " 'Andrew Caplan',\n",
       " 'Julie Supan',\n",
       " 'Chris Savage',\n",
       " 'Brian Balfour',\n",
       " 'Matin Movassate',\n",
       " ' Hiten Shah',\n",
       " 'Carly Fiorina',\n",
       " 'Ben Porterfield',\n",
       " 'Eoghan McCabe',\n",
       " 'Stewart Butterfield',\n",
       " 'Leo Widrich',\n",
       " 'Jackson Noel',\n",
       " 'Brian Chesky',\n",
       " 'Kevin Systrom',\n",
       " 'David Barrett',\n",
       " 'Mitch Lowe',\n",
       " 'Lloyd Tabb',\n",
       " 'Paul Graham',\n",
       " 'Jessica Livingston',\n",
       " 'Peter Levine',\n",
       " 'Arjun Sethi',\n",
       " 'Ben Horowitz',\n",
       " 'Jason Lemkin',\n",
       " 'Bill Gurley',\n",
       " 'Cindy Alvarez',\n",
       " 'Jonathan Hsu',\n",
       " 'Charles Babbage',\n",
       " \"Michael O'Connell\",\n",
       " 'Edward Tufte',\n",
       " 'Authors of Made to Stick',\n",
       " 'Avinash Kaushik',\n",
       " 'Marli Mesibov',\n",
       " 'Daniel Gruhl',\n",
       " 'Sir Timothy John Berners-Lee',\n",
       " 'Fiona Roddis',\n",
       " 'Jeff Allen',\n",
       " 'Jeff Sauer',\n",
       " 'Tom Conrad',\n",
       " 'Julie Zhuo',\n",
       " 'Monica Rogati',\n",
       " 'Mark Andreessen',\n",
       " 'Sean Ellis',\n",
       " 'Daniel Wolchonok']"
      ]
     },
     "execution_count": 180,
     "metadata": {},
     "output_type": "execute_result"
    }
   ],
   "source": [
    "authors"
   ]
  },
  {
   "cell_type": "code",
   "execution_count": 244,
   "id": "1ca102be-1f8c-47ef-beb4-ab8bed957a57",
   "metadata": {},
   "outputs": [],
   "source": [
    "new_authors=authors"
   ]
  },
  {
   "cell_type": "code",
   "execution_count": 246,
   "id": "0604eb23-236d-4174-86f1-911033074783",
   "metadata": {},
   "outputs": [],
   "source": [
    "new_authors = list(map(lambda x: x.replace('Authors of Made to Stick', 'Chip and Dan Heath'), new_authors))"
   ]
  },
  {
   "cell_type": "code",
   "execution_count": 249,
   "id": "c2f869ca-2537-4a0c-af5e-bb985dfcc6a3",
   "metadata": {},
   "outputs": [
    {
     "data": {
      "text/plain": [
       "['Alex Shultz',\n",
       " 'Stuart McDonald',\n",
       " 'Matt Trifiro',\n",
       " 'Andrew Chen',\n",
       " 'Meenal Balar',\n",
       " 'John Egan',\n",
       " 'Kevin Li',\n",
       " 'Andrew Caplan',\n",
       " 'Julie Supan',\n",
       " 'Chris Savage',\n",
       " 'Brian Balfour',\n",
       " 'Matin Movassate',\n",
       " ' Hiten Shah',\n",
       " 'Carly Fiorina',\n",
       " 'Ben Porterfield',\n",
       " 'Eoghan McCabe',\n",
       " 'Stewart Butterfield',\n",
       " 'Leo Widrich',\n",
       " 'Jackson Noel',\n",
       " 'Brian Chesky',\n",
       " 'Kevin Systrom',\n",
       " 'David Barrett',\n",
       " 'Mitch Lowe',\n",
       " 'Lloyd Tabb',\n",
       " 'Paul Graham',\n",
       " 'Jessica Livingston',\n",
       " 'Peter Levine',\n",
       " 'Arjun Sethi',\n",
       " 'Ben Horowitz',\n",
       " 'Jason Lemkin',\n",
       " 'Bill Gurley',\n",
       " 'Cindy Alvarez',\n",
       " 'Jonathan Hsu',\n",
       " 'Charles Babbage',\n",
       " \"Michael O'Connell\",\n",
       " 'Edward Tufte',\n",
       " 'Chip and Dan Heath',\n",
       " 'Avinash Kaushik',\n",
       " 'Marli Mesibov',\n",
       " 'Daniel Gruhl',\n",
       " 'Sir Timothy John Berners-Lee',\n",
       " 'Fiona Roddis',\n",
       " 'Jeff Allen',\n",
       " 'Jeff Sauer',\n",
       " 'Tom Conrad',\n",
       " 'Julie Zhuo',\n",
       " 'Monica Rogati',\n",
       " 'Mark Andreessen',\n",
       " 'Sean Ellis',\n",
       " 'Daniel Wolchonok']"
      ]
     },
     "execution_count": 249,
     "metadata": {},
     "output_type": "execute_result"
    }
   ],
   "source": [
    "new_authors"
   ]
  },
  {
   "cell_type": "code",
   "execution_count": 247,
   "id": "955b752e-7aec-4d41-8941-69f2f8b48ddd",
   "metadata": {},
   "outputs": [
    {
     "data": {
      "text/plain": [
       "50"
      ]
     },
     "execution_count": 247,
     "metadata": {},
     "output_type": "execute_result"
    }
   ],
   "source": [
    "len(new_quotes)"
   ]
  },
  {
   "cell_type": "code",
   "execution_count": 248,
   "id": "72d3e19b-4254-4db2-98e4-49b61e36d88e",
   "metadata": {},
   "outputs": [
    {
     "data": {
      "text/plain": [
       "50"
      ]
     },
     "execution_count": 248,
     "metadata": {},
     "output_type": "execute_result"
    }
   ],
   "source": [
    "len(new_authors)"
   ]
  },
  {
   "cell_type": "code",
   "execution_count": 250,
   "id": "cae325d7-b7fa-4374-b7e3-273829c4be0a",
   "metadata": {},
   "outputs": [],
   "source": [
    "category=[]\n",
    "for i in range(50):\n",
    "    category.append('Data Analytics')"
   ]
  },
  {
   "cell_type": "code",
   "execution_count": 251,
   "id": "57e1112c-d399-4e68-86e5-764f1c73fbc0",
   "metadata": {},
   "outputs": [
    {
     "data": {
      "text/plain": [
       "50"
      ]
     },
     "execution_count": 251,
     "metadata": {},
     "output_type": "execute_result"
    }
   ],
   "source": [
    "len(category)"
   ]
  },
  {
   "cell_type": "code",
   "execution_count": 252,
   "id": "1a4bfc85-ae98-4e96-bc82-9e50dd641d7e",
   "metadata": {},
   "outputs": [],
   "source": [
    "dict3={'quote':new_quotes,'author':new_authors,'category':category}"
   ]
  },
  {
   "cell_type": "code",
   "execution_count": 253,
   "id": "6c563087-0006-48e3-96ae-bc5e470c6fbd",
   "metadata": {},
   "outputs": [],
   "source": [
    "df_da=pd.DataFrame(dict3)"
   ]
  },
  {
   "cell_type": "code",
   "execution_count": 254,
   "id": "fd6f8129-37c1-4ff5-a2bd-01446a294a99",
   "metadata": {},
   "outputs": [
    {
     "data": {
      "text/html": [
       "<div>\n",
       "<style scoped>\n",
       "    .dataframe tbody tr th:only-of-type {\n",
       "        vertical-align: middle;\n",
       "    }\n",
       "\n",
       "    .dataframe tbody tr th {\n",
       "        vertical-align: top;\n",
       "    }\n",
       "\n",
       "    .dataframe thead th {\n",
       "        text-align: right;\n",
       "    }\n",
       "</style>\n",
       "<table border=\"1\" class=\"dataframe\">\n",
       "  <thead>\n",
       "    <tr style=\"text-align: right;\">\n",
       "      <th></th>\n",
       "      <th>quote</th>\n",
       "      <th>author</th>\n",
       "      <th>category</th>\n",
       "    </tr>\n",
       "  </thead>\n",
       "  <tbody>\n",
       "    <tr>\n",
       "      <th>0</th>\n",
       "      <td>“Different verticals need different terminal r...</td>\n",
       "      <td>Alex Shultz</td>\n",
       "      <td>Data Analytics</td>\n",
       "    </tr>\n",
       "    <tr>\n",
       "      <th>1</th>\n",
       "      <td>“Tracking marketing is a cultural thing. Eithe...</td>\n",
       "      <td>Stuart McDonald</td>\n",
       "      <td>Data Analytics</td>\n",
       "    </tr>\n",
       "    <tr>\n",
       "      <th>2</th>\n",
       "      <td>“Time and money are your scarcest resources. Y...</td>\n",
       "      <td>Matt Trifiro</td>\n",
       "      <td>Data Analytics</td>\n",
       "    </tr>\n",
       "    <tr>\n",
       "      <th>3</th>\n",
       "      <td>“Have a vision for what you are trying to do. ...</td>\n",
       "      <td>Andrew Chen</td>\n",
       "      <td>Data Analytics</td>\n",
       "    </tr>\n",
       "    <tr>\n",
       "      <th>4</th>\n",
       "      <td>“Execution is so critical. Sometimes you just ...</td>\n",
       "      <td>Meenal Balar</td>\n",
       "      <td>Data Analytics</td>\n",
       "    </tr>\n",
       "    <tr>\n",
       "      <th>5</th>\n",
       "      <td>“When we initially started testing email subje...</td>\n",
       "      <td>John Egan</td>\n",
       "      <td>Data Analytics</td>\n",
       "    </tr>\n",
       "    <tr>\n",
       "      <th>6</th>\n",
       "      <td>“If there’s one takeaway it’s that it’s okay t...</td>\n",
       "      <td>Kevin Li</td>\n",
       "      <td>Data Analytics</td>\n",
       "    </tr>\n",
       "    <tr>\n",
       "      <th>7</th>\n",
       "      <td>“The most important thing we've done to improv...</td>\n",
       "      <td>Andrew Caplan</td>\n",
       "      <td>Data Analytics</td>\n",
       "    </tr>\n",
       "    <tr>\n",
       "      <th>8</th>\n",
       "      <td>“There’s more objectivity in one customer shar...</td>\n",
       "      <td>Julie Supan</td>\n",
       "      <td>Data Analytics</td>\n",
       "    </tr>\n",
       "    <tr>\n",
       "      <th>9</th>\n",
       "      <td>“You can’t run a business today without data. ...</td>\n",
       "      <td>Chris Savage</td>\n",
       "      <td>Data Analytics</td>\n",
       "    </tr>\n",
       "    <tr>\n",
       "      <th>10</th>\n",
       "      <td>“As you gain fresh insight from your data, it ...</td>\n",
       "      <td>Brian Balfour</td>\n",
       "      <td>Data Analytics</td>\n",
       "    </tr>\n",
       "    <tr>\n",
       "      <th>11</th>\n",
       "      <td>“Analytics software is uniquely leveraged. Mos...</td>\n",
       "      <td>Matin Movassate</td>\n",
       "      <td>Data Analytics</td>\n",
       "    </tr>\n",
       "    <tr>\n",
       "      <th>12</th>\n",
       "      <td>“If you pick the right metrics for success, yo...</td>\n",
       "      <td>Hiten Shah</td>\n",
       "      <td>Data Analytics</td>\n",
       "    </tr>\n",
       "    <tr>\n",
       "      <th>13</th>\n",
       "      <td>“The goal is to turn data into information, an...</td>\n",
       "      <td>Carly Fiorina</td>\n",
       "      <td>Data Analytics</td>\n",
       "    </tr>\n",
       "    <tr>\n",
       "      <th>14</th>\n",
       "      <td>“You want everyone to be able to look at the d...</td>\n",
       "      <td>Ben Porterfield</td>\n",
       "      <td>Data Analytics</td>\n",
       "    </tr>\n",
       "    <tr>\n",
       "      <th>15</th>\n",
       "      <td>“We’ve tried to put passion and art and love a...</td>\n",
       "      <td>Eoghan McCabe</td>\n",
       "      <td>Data Analytics</td>\n",
       "    </tr>\n",
       "    <tr>\n",
       "      <th>16</th>\n",
       "      <td>“Of course hard numbers tell an important stor...</td>\n",
       "      <td>Stewart Butterfield</td>\n",
       "      <td>Data Analytics</td>\n",
       "    </tr>\n",
       "    <tr>\n",
       "      <th>17</th>\n",
       "      <td>“We live in a time where data is all around us...</td>\n",
       "      <td>Leo Widrich</td>\n",
       "      <td>Data Analytics</td>\n",
       "    </tr>\n",
       "    <tr>\n",
       "      <th>18</th>\n",
       "      <td>“The single most important thing we've done fo...</td>\n",
       "      <td>Jackson Noel</td>\n",
       "      <td>Data Analytics</td>\n",
       "    </tr>\n",
       "    <tr>\n",
       "      <th>19</th>\n",
       "      <td>“The problem with Silicon Valley is when you b...</td>\n",
       "      <td>Brian Chesky</td>\n",
       "      <td>Data Analytics</td>\n",
       "    </tr>\n",
       "    <tr>\n",
       "      <th>20</th>\n",
       "      <td>“I learned a lesson from watching other compan...</td>\n",
       "      <td>Kevin Systrom</td>\n",
       "      <td>Data Analytics</td>\n",
       "    </tr>\n",
       "    <tr>\n",
       "      <th>21</th>\n",
       "      <td>“[For early-stage startups,] data is never the...</td>\n",
       "      <td>David Barrett</td>\n",
       "      <td>Data Analytics</td>\n",
       "    </tr>\n",
       "    <tr>\n",
       "      <th>22</th>\n",
       "      <td>“Use analytics to make decisions. I always tho...</td>\n",
       "      <td>Mitch Lowe</td>\n",
       "      <td>Data Analytics</td>\n",
       "    </tr>\n",
       "    <tr>\n",
       "      <th>23</th>\n",
       "      <td>“Your metrics influence each other. You need t...</td>\n",
       "      <td>Lloyd Tabb</td>\n",
       "      <td>Data Analytics</td>\n",
       "    </tr>\n",
       "    <tr>\n",
       "      <th>24</th>\n",
       "      <td>“Merely measuring something has an uncanny ten...</td>\n",
       "      <td>Paul Graham</td>\n",
       "      <td>Data Analytics</td>\n",
       "    </tr>\n",
       "    <tr>\n",
       "      <th>25</th>\n",
       "      <td>“Your users are your guidepost. And the way yo...</td>\n",
       "      <td>Jessica Livingston</td>\n",
       "      <td>Data Analytics</td>\n",
       "    </tr>\n",
       "    <tr>\n",
       "      <th>26</th>\n",
       "      <td>“For predictive analytics, we need an infrastr...</td>\n",
       "      <td>Peter Levine</td>\n",
       "      <td>Data Analytics</td>\n",
       "    </tr>\n",
       "    <tr>\n",
       "      <th>27</th>\n",
       "      <td>“You must constantly try to disrupt yourself. ...</td>\n",
       "      <td>Arjun Sethi</td>\n",
       "      <td>Data Analytics</td>\n",
       "    </tr>\n",
       "    <tr>\n",
       "      <th>28</th>\n",
       "      <td>“I often see teams that maniacally focus on th...</td>\n",
       "      <td>Ben Horowitz</td>\n",
       "      <td>Data Analytics</td>\n",
       "    </tr>\n",
       "    <tr>\n",
       "      <th>29</th>\n",
       "      <td>“Don’t obsess over these sub metrics, but obse...</td>\n",
       "      <td>Jason Lemkin</td>\n",
       "      <td>Data Analytics</td>\n",
       "    </tr>\n",
       "    <tr>\n",
       "      <th>30</th>\n",
       "      <td>“If an Internet company could obsess about onl...</td>\n",
       "      <td>Bill Gurley</td>\n",
       "      <td>Data Analytics</td>\n",
       "    </tr>\n",
       "    <tr>\n",
       "      <th>31</th>\n",
       "      <td>“You don’t need to learn what customers say th...</td>\n",
       "      <td>Cindy Alvarez</td>\n",
       "      <td>Data Analytics</td>\n",
       "    </tr>\n",
       "    <tr>\n",
       "      <th>32</th>\n",
       "      <td>“Data isn’t useful without the product context...</td>\n",
       "      <td>Jonathan Hsu</td>\n",
       "      <td>Data Analytics</td>\n",
       "    </tr>\n",
       "    <tr>\n",
       "      <th>33</th>\n",
       "      <td>“Errors using inadequate data are much less th...</td>\n",
       "      <td>Charles Babbage</td>\n",
       "      <td>Data Analytics</td>\n",
       "    </tr>\n",
       "    <tr>\n",
       "      <th>34</th>\n",
       "      <td>“When you are dealing with a torrent of data, ...</td>\n",
       "      <td>Michael O'Connell</td>\n",
       "      <td>Data Analytics</td>\n",
       "    </tr>\n",
       "    <tr>\n",
       "      <th>35</th>\n",
       "      <td>“If statistics are boring, you've got the wron...</td>\n",
       "      <td>Edward Tufte</td>\n",
       "      <td>Data Analytics</td>\n",
       "    </tr>\n",
       "    <tr>\n",
       "      <th>36</th>\n",
       "      <td>“Data are just summaries of thousands of stori...</td>\n",
       "      <td>Chip and Dan Heath</td>\n",
       "      <td>Data Analytics</td>\n",
       "    </tr>\n",
       "    <tr>\n",
       "      <th>37</th>\n",
       "      <td>“[A data-first strategy] is the quest to imple...</td>\n",
       "      <td>Avinash Kaushik</td>\n",
       "      <td>Data Analytics</td>\n",
       "    </tr>\n",
       "    <tr>\n",
       "      <th>38</th>\n",
       "      <td>“A screen full of analytics data looks like a ...</td>\n",
       "      <td>Marli Mesibov</td>\n",
       "      <td>Data Analytics</td>\n",
       "    </tr>\n",
       "    <tr>\n",
       "      <th>39</th>\n",
       "      <td>“The key is to let computers do what they are ...</td>\n",
       "      <td>Daniel Gruhl</td>\n",
       "      <td>Data Analytics</td>\n",
       "    </tr>\n",
       "    <tr>\n",
       "      <th>40</th>\n",
       "      <td>“Data is a precious thing and will last longer...</td>\n",
       "      <td>Sir Timothy John Berners-Lee</td>\n",
       "      <td>Data Analytics</td>\n",
       "    </tr>\n",
       "    <tr>\n",
       "      <th>41</th>\n",
       "      <td>\"One metric alone doesn’t tell you what’s happ...</td>\n",
       "      <td>Fiona Roddis</td>\n",
       "      <td>Data Analytics</td>\n",
       "    </tr>\n",
       "    <tr>\n",
       "      <th>42</th>\n",
       "      <td>“In a marketing analytics worldview, companies...</td>\n",
       "      <td>Jeff Allen</td>\n",
       "      <td>Data Analytics</td>\n",
       "    </tr>\n",
       "    <tr>\n",
       "      <th>43</th>\n",
       "      <td>“For every $20 you spend on web analytics tool...</td>\n",
       "      <td>Jeff Sauer</td>\n",
       "      <td>Data Analytics</td>\n",
       "    </tr>\n",
       "    <tr>\n",
       "      <th>44</th>\n",
       "      <td>“As a publicly-traded company you have to do a...</td>\n",
       "      <td>Tom Conrad</td>\n",
       "      <td>Data Analytics</td>\n",
       "    </tr>\n",
       "    <tr>\n",
       "      <th>45</th>\n",
       "      <td>“Data and A/B test are valuable allies, and th...</td>\n",
       "      <td>Julie Zhuo</td>\n",
       "      <td>Data Analytics</td>\n",
       "    </tr>\n",
       "    <tr>\n",
       "      <th>46</th>\n",
       "      <td>\"About 10 years ago, a video went viral on You...</td>\n",
       "      <td>Monica Rogati</td>\n",
       "      <td>Data Analytics</td>\n",
       "    </tr>\n",
       "    <tr>\n",
       "      <th>47</th>\n",
       "      <td>“The only thing that matters is getting to pro...</td>\n",
       "      <td>Mark Andreessen</td>\n",
       "      <td>Data Analytics</td>\n",
       "    </tr>\n",
       "    <tr>\n",
       "      <th>48</th>\n",
       "      <td>“A big theme that I keep coming back to is, wh...</td>\n",
       "      <td>Sean Ellis</td>\n",
       "      <td>Data Analytics</td>\n",
       "    </tr>\n",
       "    <tr>\n",
       "      <th>49</th>\n",
       "      <td>“In my time as a product manager, I was consta...</td>\n",
       "      <td>Daniel Wolchonok</td>\n",
       "      <td>Data Analytics</td>\n",
       "    </tr>\n",
       "  </tbody>\n",
       "</table>\n",
       "</div>"
      ],
      "text/plain": [
       "                                                quote  \\\n",
       "0   “Different verticals need different terminal r...   \n",
       "1   “Tracking marketing is a cultural thing. Eithe...   \n",
       "2   “Time and money are your scarcest resources. Y...   \n",
       "3   “Have a vision for what you are trying to do. ...   \n",
       "4   “Execution is so critical. Sometimes you just ...   \n",
       "5   “When we initially started testing email subje...   \n",
       "6   “If there’s one takeaway it’s that it’s okay t...   \n",
       "7   “The most important thing we've done to improv...   \n",
       "8   “There’s more objectivity in one customer shar...   \n",
       "9   “You can’t run a business today without data. ...   \n",
       "10  “As you gain fresh insight from your data, it ...   \n",
       "11  “Analytics software is uniquely leveraged. Mos...   \n",
       "12  “If you pick the right metrics for success, yo...   \n",
       "13  “The goal is to turn data into information, an...   \n",
       "14  “You want everyone to be able to look at the d...   \n",
       "15  “We’ve tried to put passion and art and love a...   \n",
       "16  “Of course hard numbers tell an important stor...   \n",
       "17  “We live in a time where data is all around us...   \n",
       "18  “The single most important thing we've done fo...   \n",
       "19  “The problem with Silicon Valley is when you b...   \n",
       "20  “I learned a lesson from watching other compan...   \n",
       "21  “[For early-stage startups,] data is never the...   \n",
       "22  “Use analytics to make decisions. I always tho...   \n",
       "23  “Your metrics influence each other. You need t...   \n",
       "24  “Merely measuring something has an uncanny ten...   \n",
       "25  “Your users are your guidepost. And the way yo...   \n",
       "26  “For predictive analytics, we need an infrastr...   \n",
       "27  “You must constantly try to disrupt yourself. ...   \n",
       "28  “I often see teams that maniacally focus on th...   \n",
       "29  “Don’t obsess over these sub metrics, but obse...   \n",
       "30  “If an Internet company could obsess about onl...   \n",
       "31  “You don’t need to learn what customers say th...   \n",
       "32  “Data isn’t useful without the product context...   \n",
       "33  “Errors using inadequate data are much less th...   \n",
       "34  “When you are dealing with a torrent of data, ...   \n",
       "35  “If statistics are boring, you've got the wron...   \n",
       "36  “Data are just summaries of thousands of stori...   \n",
       "37  “[A data-first strategy] is the quest to imple...   \n",
       "38  “A screen full of analytics data looks like a ...   \n",
       "39  “The key is to let computers do what they are ...   \n",
       "40  “Data is a precious thing and will last longer...   \n",
       "41  \"One metric alone doesn’t tell you what’s happ...   \n",
       "42  “In a marketing analytics worldview, companies...   \n",
       "43  “For every $20 you spend on web analytics tool...   \n",
       "44  “As a publicly-traded company you have to do a...   \n",
       "45  “Data and A/B test are valuable allies, and th...   \n",
       "46  \"About 10 years ago, a video went viral on You...   \n",
       "47  “The only thing that matters is getting to pro...   \n",
       "48  “A big theme that I keep coming back to is, wh...   \n",
       "49  “In my time as a product manager, I was consta...   \n",
       "\n",
       "                          author        category  \n",
       "0                    Alex Shultz  Data Analytics  \n",
       "1                Stuart McDonald  Data Analytics  \n",
       "2                   Matt Trifiro  Data Analytics  \n",
       "3                    Andrew Chen  Data Analytics  \n",
       "4                   Meenal Balar  Data Analytics  \n",
       "5                      John Egan  Data Analytics  \n",
       "6                       Kevin Li  Data Analytics  \n",
       "7                  Andrew Caplan  Data Analytics  \n",
       "8                    Julie Supan  Data Analytics  \n",
       "9                   Chris Savage  Data Analytics  \n",
       "10                 Brian Balfour  Data Analytics  \n",
       "11               Matin Movassate  Data Analytics  \n",
       "12                    Hiten Shah  Data Analytics  \n",
       "13                 Carly Fiorina  Data Analytics  \n",
       "14               Ben Porterfield  Data Analytics  \n",
       "15                 Eoghan McCabe  Data Analytics  \n",
       "16           Stewart Butterfield  Data Analytics  \n",
       "17                   Leo Widrich  Data Analytics  \n",
       "18                  Jackson Noel  Data Analytics  \n",
       "19                  Brian Chesky  Data Analytics  \n",
       "20                 Kevin Systrom  Data Analytics  \n",
       "21                 David Barrett  Data Analytics  \n",
       "22                    Mitch Lowe  Data Analytics  \n",
       "23                    Lloyd Tabb  Data Analytics  \n",
       "24                   Paul Graham  Data Analytics  \n",
       "25            Jessica Livingston  Data Analytics  \n",
       "26                  Peter Levine  Data Analytics  \n",
       "27                   Arjun Sethi  Data Analytics  \n",
       "28                  Ben Horowitz  Data Analytics  \n",
       "29                  Jason Lemkin  Data Analytics  \n",
       "30                   Bill Gurley  Data Analytics  \n",
       "31                 Cindy Alvarez  Data Analytics  \n",
       "32                  Jonathan Hsu  Data Analytics  \n",
       "33               Charles Babbage  Data Analytics  \n",
       "34             Michael O'Connell  Data Analytics  \n",
       "35                  Edward Tufte  Data Analytics  \n",
       "36            Chip and Dan Heath  Data Analytics  \n",
       "37               Avinash Kaushik  Data Analytics  \n",
       "38                 Marli Mesibov  Data Analytics  \n",
       "39                  Daniel Gruhl  Data Analytics  \n",
       "40  Sir Timothy John Berners-Lee  Data Analytics  \n",
       "41                  Fiona Roddis  Data Analytics  \n",
       "42                    Jeff Allen  Data Analytics  \n",
       "43                    Jeff Sauer  Data Analytics  \n",
       "44                    Tom Conrad  Data Analytics  \n",
       "45                    Julie Zhuo  Data Analytics  \n",
       "46                 Monica Rogati  Data Analytics  \n",
       "47               Mark Andreessen  Data Analytics  \n",
       "48                    Sean Ellis  Data Analytics  \n",
       "49              Daniel Wolchonok  Data Analytics  "
      ]
     },
     "execution_count": 254,
     "metadata": {},
     "output_type": "execute_result"
    }
   ],
   "source": [
    "df_da"
   ]
  },
  {
   "cell_type": "code",
   "execution_count": 261,
   "id": "4dab7907-e7fd-4810-8941-28aa693267e7",
   "metadata": {},
   "outputs": [],
   "source": [
    "df=pd.concat([df_ai, df_ds,df_da],ignore_index=True)"
   ]
  },
  {
   "cell_type": "code",
   "execution_count": 262,
   "id": "b8466b3c-9173-4530-9408-57139544d4a7",
   "metadata": {},
   "outputs": [
    {
     "data": {
      "text/html": [
       "<div>\n",
       "<style scoped>\n",
       "    .dataframe tbody tr th:only-of-type {\n",
       "        vertical-align: middle;\n",
       "    }\n",
       "\n",
       "    .dataframe tbody tr th {\n",
       "        vertical-align: top;\n",
       "    }\n",
       "\n",
       "    .dataframe thead th {\n",
       "        text-align: right;\n",
       "    }\n",
       "</style>\n",
       "<table border=\"1\" class=\"dataframe\">\n",
       "  <thead>\n",
       "    <tr style=\"text-align: right;\">\n",
       "      <th></th>\n",
       "      <th>quote</th>\n",
       "      <th>author</th>\n",
       "      <th>category</th>\n",
       "    </tr>\n",
       "  </thead>\n",
       "  <tbody>\n",
       "    <tr>\n",
       "      <th>0</th>\n",
       "      <td>“The coming era of Artificial Intelligence wil...</td>\n",
       "      <td>– Amit Ray</td>\n",
       "      <td>AI</td>\n",
       "    </tr>\n",
       "    <tr>\n",
       "      <th>1</th>\n",
       "      <td>“Artificial intelligence would be the ultimate...</td>\n",
       "      <td>– Larry Page</td>\n",
       "      <td>AI</td>\n",
       "    </tr>\n",
       "    <tr>\n",
       "      <th>2</th>\n",
       "      <td>“Cyber hygiene, patching vulnerabilities, secu...</td>\n",
       "      <td>– James Scott</td>\n",
       "      <td>AI</td>\n",
       "    </tr>\n",
       "    <tr>\n",
       "      <th>3</th>\n",
       "      <td>“You have to talk about ‘The Terminator’ if yo...</td>\n",
       "      <td>– Gray Scott</td>\n",
       "      <td>AI</td>\n",
       "    </tr>\n",
       "    <tr>\n",
       "      <th>4</th>\n",
       "      <td>“I believe that at the end of the century the ...</td>\n",
       "      <td>– Alan Turing</td>\n",
       "      <td>AI</td>\n",
       "    </tr>\n",
       "    <tr>\n",
       "      <th>...</th>\n",
       "      <td>...</td>\n",
       "      <td>...</td>\n",
       "      <td>...</td>\n",
       "    </tr>\n",
       "    <tr>\n",
       "      <th>126</th>\n",
       "      <td>“Data and A/B test are valuable allies, and th...</td>\n",
       "      <td>Julie Zhuo</td>\n",
       "      <td>Data Analytics</td>\n",
       "    </tr>\n",
       "    <tr>\n",
       "      <th>127</th>\n",
       "      <td>\"About 10 years ago, a video went viral on You...</td>\n",
       "      <td>Monica Rogati</td>\n",
       "      <td>Data Analytics</td>\n",
       "    </tr>\n",
       "    <tr>\n",
       "      <th>128</th>\n",
       "      <td>“The only thing that matters is getting to pro...</td>\n",
       "      <td>Mark Andreessen</td>\n",
       "      <td>Data Analytics</td>\n",
       "    </tr>\n",
       "    <tr>\n",
       "      <th>129</th>\n",
       "      <td>“A big theme that I keep coming back to is, wh...</td>\n",
       "      <td>Sean Ellis</td>\n",
       "      <td>Data Analytics</td>\n",
       "    </tr>\n",
       "    <tr>\n",
       "      <th>130</th>\n",
       "      <td>“In my time as a product manager, I was consta...</td>\n",
       "      <td>Daniel Wolchonok</td>\n",
       "      <td>Data Analytics</td>\n",
       "    </tr>\n",
       "  </tbody>\n",
       "</table>\n",
       "<p>131 rows × 3 columns</p>\n",
       "</div>"
      ],
      "text/plain": [
       "                                                 quote            author  \\\n",
       "0    “The coming era of Artificial Intelligence wil...        – Amit Ray   \n",
       "1    “Artificial intelligence would be the ultimate...      – Larry Page   \n",
       "2    “Cyber hygiene, patching vulnerabilities, secu...     – James Scott   \n",
       "3    “You have to talk about ‘The Terminator’ if yo...      – Gray Scott   \n",
       "4    “I believe that at the end of the century the ...     – Alan Turing   \n",
       "..                                                 ...               ...   \n",
       "126  “Data and A/B test are valuable allies, and th...        Julie Zhuo   \n",
       "127  \"About 10 years ago, a video went viral on You...     Monica Rogati   \n",
       "128  “The only thing that matters is getting to pro...   Mark Andreessen   \n",
       "129  “A big theme that I keep coming back to is, wh...        Sean Ellis   \n",
       "130  “In my time as a product manager, I was consta...  Daniel Wolchonok   \n",
       "\n",
       "           category  \n",
       "0                AI  \n",
       "1                AI  \n",
       "2                AI  \n",
       "3                AI  \n",
       "4                AI  \n",
       "..              ...  \n",
       "126  Data Analytics  \n",
       "127  Data Analytics  \n",
       "128  Data Analytics  \n",
       "129  Data Analytics  \n",
       "130  Data Analytics  \n",
       "\n",
       "[131 rows x 3 columns]"
      ]
     },
     "execution_count": 262,
     "metadata": {},
     "output_type": "execute_result"
    }
   ],
   "source": [
    "df"
   ]
  },
  {
   "cell_type": "code",
   "execution_count": null,
   "id": "34e2a8e9-3d9b-457c-a273-ac2350c40165",
   "metadata": {},
   "outputs": [],
   "source": []
  },
  {
   "cell_type": "code",
   "execution_count": 263,
   "id": "5a35f644-4089-49be-ba89-8692e740a773",
   "metadata": {},
   "outputs": [],
   "source": [
    "df.to_csv('quotes.csv')"
   ]
  },
  {
   "cell_type": "code",
   "execution_count": 27,
   "id": "d80928b9-7c11-4569-9392-74dc46658d27",
   "metadata": {},
   "outputs": [
    {
     "name": "stdout",
     "output_type": "stream",
     "text": [
      "[]\n"
     ]
    }
   ],
   "source": [
    "import requests\n",
    "from bs4 import BeautifulSoup\n",
    "\n",
    "url = \"https://www.theinsaneapp.com/2021/01/artificial-intelligence-machine-learning-and-data-science-quotes.html\"\n",
    "\n",
    "response = requests.get(url)\n",
    "soup = BeautifulSoup(response.text, \"html.parser\")\n",
    "\n",
    "quotes = soup.find_all(\"blockquote\", {'class':\"wp-block-quote\"})\n",
    "print(quotes)\n",
    "for quote in quotes:\n",
    "    quote_text = quote.find(\"div\", class_=\"qt\").text.strip()\n",
    "    author = quote.find(\"div\", class_=\"author\").text.strip()\n",
    "    print(f'\"{quote_text}\" - {author}')"
   ]
  },
  {
   "cell_type": "code",
   "execution_count": 33,
   "id": "1d259e7e-82bd-4639-9427-3b77d6cd124a",
   "metadata": {},
   "outputs": [
    {
     "name": "stdout",
     "output_type": "stream",
     "text": [
      "[]\n"
     ]
    }
   ],
   "source": [
    "import requests\n",
    "from bs4 import BeautifulSoup\n",
    "\n",
    "url = \"https://www.theinsaneapp.com/2021/01/artificial-intelligence-machine-learning-and-data-science-quotes.html\"\n",
    "\n",
    "response = requests.get(url)\n",
    "soup = BeautifulSoup(response.text, \"html.parser\")\n",
    "\n",
    "quotes = soup.find_all(\"blockquote\",class_='wp-block-quote')\n",
    "print(quotes)\n",
    "for quote in quotes:\n",
    "    quote_text = quote.find(\"p\").text.strip()\n",
    "    author = quote.find(\"cite\").text.strip()\n",
    "    print(f'\"{quote_text}\" - {author}')\n"
   ]
  },
  {
   "cell_type": "code",
   "execution_count": 20,
   "id": "f92d5bcd-2975-4bda-a9e6-cb8c04372e31",
   "metadata": {},
   "outputs": [
    {
     "name": "stdout",
     "output_type": "stream",
     "text": [
      "Requirement already satisfied: selenium in c:\\users\\atharv\\anaconda_new\\lib\\site-packages (4.8.0)\n",
      "Requirement already satisfied: trio-websocket~=0.9 in c:\\users\\atharv\\anaconda_new\\lib\\site-packages (from selenium) (0.9.2)\n",
      "Requirement already satisfied: trio~=0.17 in c:\\users\\atharv\\anaconda_new\\lib\\site-packages (from selenium) (0.22.0)\n",
      "Requirement already satisfied: urllib3[socks]~=1.26 in c:\\users\\atharv\\anaconda_new\\lib\\site-packages (from selenium) (1.26.14)\n",
      "Requirement already satisfied: certifi>=2021.10.8 in c:\\users\\atharv\\anaconda_new\\lib\\site-packages (from selenium) (2022.9.24)\n",
      "Requirement already satisfied: async-generator>=1.9 in c:\\users\\atharv\\anaconda_new\\lib\\site-packages (from trio~=0.17->selenium) (1.10)\n",
      "Requirement already satisfied: cffi>=1.14 in c:\\users\\atharv\\anaconda_new\\lib\\site-packages (from trio~=0.17->selenium) (1.15.0)\n",
      "Requirement already satisfied: idna in c:\\users\\atharv\\anaconda_new\\lib\\site-packages (from trio~=0.17->selenium) (3.3)\n",
      "Requirement already satisfied: sortedcontainers in c:\\users\\atharv\\anaconda_new\\lib\\site-packages (from trio~=0.17->selenium) (2.4.0)\n",
      "Requirement already satisfied: exceptiongroup>=1.0.0rc9 in c:\\users\\atharv\\anaconda_new\\lib\\site-packages (from trio~=0.17->selenium) (1.1.0)\n",
      "Requirement already satisfied: attrs>=19.2.0 in c:\\users\\atharv\\anaconda_new\\lib\\site-packages (from trio~=0.17->selenium) (21.4.0)\n",
      "Requirement already satisfied: sniffio in c:\\users\\atharv\\anaconda_new\\lib\\site-packages (from trio~=0.17->selenium) (1.2.0)\n",
      "Requirement already satisfied: outcome in c:\\users\\atharv\\anaconda_new\\lib\\site-packages (from trio~=0.17->selenium) (1.2.0)\n",
      "Requirement already satisfied: pycparser in c:\\users\\atharv\\anaconda_new\\lib\\site-packages (from cffi>=1.14->trio~=0.17->selenium) (2.21)\n",
      "Requirement already satisfied: wsproto>=0.14 in c:\\users\\atharv\\anaconda_new\\lib\\site-packages (from trio-websocket~=0.9->selenium) (1.2.0)\n",
      "Requirement already satisfied: PySocks!=1.5.7,<2.0,>=1.5.6 in c:\\users\\atharv\\anaconda_new\\lib\\site-packages (from urllib3[socks]~=1.26->selenium) (1.7.1)\n",
      "Requirement already satisfied: h11<1,>=0.9.0 in c:\\users\\atharv\\anaconda_new\\lib\\site-packages (from wsproto>=0.14->trio-websocket~=0.9->selenium) (0.14.0)\n"
     ]
    },
    {
     "name": "stderr",
     "output_type": "stream",
     "text": [
      "WARNING: Ignoring invalid distribution -rotobuf (c:\\users\\atharv\\anaconda_new\\lib\\site-packages)\n",
      "WARNING: Ignoring invalid distribution -rotobuf (c:\\users\\atharv\\anaconda_new\\lib\\site-packages)\n",
      "WARNING: Ignoring invalid distribution -rotobuf (c:\\users\\atharv\\anaconda_new\\lib\\site-packages)\n",
      "WARNING: Ignoring invalid distribution -rotobuf (c:\\users\\atharv\\anaconda_new\\lib\\site-packages)\n",
      "WARNING: Ignoring invalid distribution -rotobuf (c:\\users\\atharv\\anaconda_new\\lib\\site-packages)\n",
      "WARNING: Ignoring invalid distribution -rotobuf (c:\\users\\atharv\\anaconda_new\\lib\\site-packages)\n"
     ]
    }
   ],
   "source": [
    "!pip install selenium"
   ]
  },
  {
   "cell_type": "code",
   "execution_count": 23,
   "id": "fe9c9c64-85a1-402c-a106-681aa5dc92f8",
   "metadata": {},
   "outputs": [],
   "source": [
    "from selenium import webdriver\n",
    "from selenium.webdriver.common.keys import Keys\n",
    "import pandas as pd\n",
    "from selenium.webdriver.chrome.service import Service\n",
    "from webdriver_manager.chrome import ChromeDriverManager"
   ]
  },
  {
   "cell_type": "code",
   "execution_count": 24,
   "id": "f3a51fc7-f344-482c-ba4b-4d8abdbbcd07",
   "metadata": {},
   "outputs": [
    {
     "name": "stderr",
     "output_type": "stream",
     "text": [
      "[WDM] - Downloading: 100%|██████████| 6.78M/6.78M [00:06<00:00, 1.07MB/s]\n"
     ]
    }
   ],
   "source": [
    "driver = webdriver.Chrome(service=Service(ChromeDriverManager().install()))"
   ]
  },
  {
   "cell_type": "code",
   "execution_count": null,
   "id": "3063fe91-5a81-4f63-b809-b4ac36dce2ae",
   "metadata": {},
   "outputs": [],
   "source": []
  }
 ],
 "metadata": {
  "kernelspec": {
   "display_name": "Python 3 (ipykernel)",
   "language": "python",
   "name": "python3"
  },
  "language_info": {
   "codemirror_mode": {
    "name": "ipython",
    "version": 3
   },
   "file_extension": ".py",
   "mimetype": "text/x-python",
   "name": "python",
   "nbconvert_exporter": "python",
   "pygments_lexer": "ipython3",
   "version": "3.9.12"
  }
 },
 "nbformat": 4,
 "nbformat_minor": 5
}
